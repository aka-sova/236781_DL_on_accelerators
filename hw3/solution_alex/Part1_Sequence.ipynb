{
 "cells": [
  {
   "cell_type": "markdown",
   "metadata": {},
   "source": [
    "$$\n",
    "\\newcommand{\\mat}[1]{\\boldsymbol {#1}}\n",
    "\\newcommand{\\mattr}[1]{\\boldsymbol {#1}^\\top}\n",
    "\\newcommand{\\matinv}[1]{\\boldsymbol {#1}^{-1}}\n",
    "\\newcommand{\\vec}[1]{\\boldsymbol {#1}}\n",
    "\\newcommand{\\vectr}[1]{\\boldsymbol {#1}^\\top}\n",
    "\\newcommand{\\rvar}[1]{\\mathrm {#1}}\n",
    "\\newcommand{\\rvec}[1]{\\boldsymbol{\\mathrm{#1}}}\n",
    "\\newcommand{\\diag}{\\mathop{\\mathrm {diag}}}\n",
    "\\newcommand{\\set}[1]{\\mathbb {#1}}\n",
    "\\newcommand{\\norm}[1]{\\left\\lVert#1\\right\\rVert}\n",
    "\\newcommand{\\pderiv}[2]{\\frac{\\partial #1}{\\partial #2}}\n",
    "\\newcommand{\\bb}[1]{\\boldsymbol{#1}}\n",
    "$$\n",
    "# Part 1: Sequence Models\n",
    "<a id=part1></a>"
   ]
  },
  {
   "cell_type": "markdown",
   "metadata": {},
   "source": [
    "In this part we will learn about working with text sequences using recurrent neural networks.\n",
    "We'll go from a raw text file all the way to a fully trained GRU-RNN model and generate works of art!"
   ]
  },
  {
   "cell_type": "code",
   "execution_count": 2,
   "metadata": {},
   "outputs": [],
   "source": [
    "import unittest\n",
    "import os\n",
    "import sys\n",
    "import pathlib\n",
    "import urllib\n",
    "import shutil\n",
    "import re\n",
    "\n",
    "import numpy as np\n",
    "import torch\n",
    "import matplotlib.pyplot as plt\n",
    "\n",
    "%load_ext autoreload\n",
    "%autoreload 2"
   ]
  },
  {
   "cell_type": "code",
   "execution_count": 3,
   "metadata": {},
   "outputs": [
    {
     "name": "stdout",
     "output_type": "stream",
     "text": [
      "Using device: cuda\n"
     ]
    }
   ],
   "source": [
    "test = unittest.TestCase()\n",
    "plt.rcParams.update({'font.size': 12})\n",
    "device = torch.device('cuda' if torch.cuda.is_available() else 'cpu')\n",
    "print('Using device:', device)"
   ]
  },
  {
   "cell_type": "markdown",
   "metadata": {},
   "source": [
    "## Text generation with a char-level RNN\n",
    "<a id=part1_1></a>"
   ]
  },
  {
   "cell_type": "markdown",
   "metadata": {},
   "source": [
    "### Obtaining the corpus\n",
    "<a id=part1_2></a>"
   ]
  },
  {
   "cell_type": "markdown",
   "metadata": {},
   "source": [
    "Let's begin by downloading a corpus containing all the works of William Shakespeare.\n",
    "Since he was very prolific, this corpus is fairly large and will provide us with enough data for\n",
    "obtaining impressive results."
   ]
  },
  {
   "cell_type": "code",
   "execution_count": 4,
   "metadata": {},
   "outputs": [
    {
     "name": "stdout",
     "output_type": "stream",
     "text": [
      "Corpus file /home/sakasova/.pytorch-datasets/shakespeare.txt exists, skipping download.\n"
     ]
    }
   ],
   "source": [
    "CORPUS_URL = 'https://github.com/cedricdeboom/character-level-rnn-datasets/raw/master/datasets/shakespeare.txt'\n",
    "DATA_DIR = pathlib.Path.home().joinpath('.pytorch-datasets')\n",
    "\n",
    "def download_corpus(out_path=DATA_DIR, url=CORPUS_URL, force=False):\n",
    "    pathlib.Path(out_path).mkdir(exist_ok=True)\n",
    "    out_filename = os.path.join(out_path, os.path.basename(url))\n",
    "    \n",
    "    if os.path.isfile(out_filename) and not force:\n",
    "        print(f'Corpus file {out_filename} exists, skipping download.')\n",
    "    else:\n",
    "        print(f'Downloading {url}...')\n",
    "        with urllib.request.urlopen(url) as response, open(out_filename, 'wb') as out_file:\n",
    "            shutil.copyfileobj(response, out_file)\n",
    "        print(f'Saved to {out_filename}.')\n",
    "    return out_filename\n",
    "    \n",
    "corpus_path = download_corpus()"
   ]
  },
  {
   "cell_type": "markdown",
   "metadata": {},
   "source": [
    "Load the text into memory and print a snippet:"
   ]
  },
  {
   "cell_type": "code",
   "execution_count": 5,
   "metadata": {},
   "outputs": [
    {
     "name": "stdout",
     "output_type": "stream",
     "text": [
      "Corpus length: 6347703 chars\n",
      "ALLS WELL THAT ENDS WELL\n",
      "\n",
      "by William Shakespeare\n",
      "\n",
      "Dramatis Personae\n",
      "\n",
      "  KING OF FRANCE\n",
      "  THE DUKE OF FLORENCE\n",
      "  BERTRAM, Count of Rousillon\n",
      "  LAFEU, an old lord\n",
      "  PAROLLES, a follower of Bertram\n",
      "  TWO FRENCH LORDS, serving with Bertram\n",
      "\n",
      "  STEWARD, Servant to the Countess of Rousillon\n",
      "  LAVACHE, a clown and Servant to the Countess of Rousillon\n",
      "  A PAGE, Servant to the Countess of Rousillon\n",
      "\n",
      "  COUNTESS OF ROUSILLON, mother to Bertram\n",
      "  HELENA, a gentlewoman protected by the Countess\n",
      "  A WIDOW OF FLORENCE.\n",
      "  DIANA, daughter to the Widow\n",
      "\n",
      "  VIOLENTA, neighbour and friend to the Widow\n",
      "  MARIANA, neighbour and friend to the Widow\n",
      "\n",
      "  Lords, Officers, Soldiers, etc., French and Florentine  \n",
      "\n",
      "SCENE:\n",
      "Rousillon; Paris; Florence; Marseilles\n",
      "\n",
      "ACT I. SCENE 1.\n",
      "Rousillon. The COUNT'S palace\n",
      "\n",
      "Enter BERTRAM, the COUNTESS OF ROUSILLON, HELENA, and LAFEU, all in black\n",
      "\n",
      "  COUNTESS. In delivering my son from me, I bury a second husband.\n",
      "  BERTRAM. And I in going, madam, weep o'er my father's death anew;\n",
      "    but I must attend his Majesty's command, to whom I am now in\n",
      "    ward, evermore in subjection.\n",
      "  LAFEU. You shall find of the King a husband, madam; you, sir, a\n",
      "    father. He that so generally is at all times good must of\n",
      "    \n"
     ]
    }
   ],
   "source": [
    "with open(corpus_path, 'r', encoding='utf-8') as f:\n",
    "    corpus = f.read()\n",
    "\n",
    "print(f'Corpus length: {len(corpus)} chars')\n",
    "print(corpus[7:1234])"
   ]
  },
  {
   "cell_type": "markdown",
   "metadata": {},
   "source": [
    "### Data Preprocessing\n",
    "<a id=part1_3></a>"
   ]
  },
  {
   "cell_type": "markdown",
   "metadata": {},
   "source": [
    "The first thing we'll need is to map from each unique character in the corpus to an index that will represent it in our learning process.\n",
    "\n",
    "**TODO**: Implement the `char_maps()` function in the `hw3/charnn.py` module."
   ]
  },
  {
   "cell_type": "code",
   "execution_count": 6,
   "metadata": {},
   "outputs": [
    {
     "name": "stdout",
     "output_type": "stream",
     "text": [
      "{'\\n': 0, ' ': 1, '!': 2, '\"': 3, '$': 4, '&': 5, \"'\": 6, '(': 7, ')': 8, ',': 9, '-': 10, '.': 11, '0': 12, '1': 13, '2': 14, '3': 15, '4': 16, '5': 17, '6': 18, '7': 19, '8': 20, '9': 21, ':': 22, ';': 23, '<': 24, '?': 25, 'A': 26, 'B': 27, 'C': 28, 'D': 29, 'E': 30, 'F': 31, 'G': 32, 'H': 33, 'I': 34, 'J': 35, 'K': 36, 'L': 37, 'M': 38, 'N': 39, 'O': 40, 'P': 41, 'Q': 42, 'R': 43, 'S': 44, 'T': 45, 'U': 46, 'V': 47, 'W': 48, 'X': 49, 'Y': 50, 'Z': 51, '[': 52, ']': 53, '_': 54, 'a': 55, 'b': 56, 'c': 57, 'd': 58, 'e': 59, 'f': 60, 'g': 61, 'h': 62, 'i': 63, 'j': 64, 'k': 65, 'l': 66, 'm': 67, 'n': 68, 'o': 69, 'p': 70, 'q': 71, 'r': 72, 's': 73, 't': 74, 'u': 75, 'v': 76, 'w': 77, 'x': 78, 'y': 79, 'z': 80, '}': 81, '\\ufeff': 82}\n"
     ]
    }
   ],
   "source": [
    "import hw3.charnn as charnn\n",
    "\n",
    "char_to_idx, idx_to_char = charnn.char_maps(corpus)\n",
    "print(char_to_idx)\n",
    "\n",
    "test.assertEqual(len(char_to_idx), len(idx_to_char))\n",
    "test.assertSequenceEqual(list(char_to_idx.keys()), list(idx_to_char.values()))\n",
    "test.assertSequenceEqual(list(char_to_idx.values()), list(idx_to_char.keys()))"
   ]
  },
  {
   "cell_type": "markdown",
   "metadata": {},
   "source": [
    "Seems we have some strange characters in the corpus that are very rare and are probably due to mistakes.\n",
    "To reduce the length of each tensor we'll need to later represent our chars, it's best to remove them.\n",
    "\n",
    "**TODO**: Implement the `remove_chars()` function in the `hw3/charnn.py` module."
   ]
  },
  {
   "cell_type": "code",
   "execution_count": 7,
   "metadata": {},
   "outputs": [
    {
     "name": "stdout",
     "output_type": "stream",
     "text": [
      "Removed 34 chars\n"
     ]
    }
   ],
   "source": [
    "corpus, n_removed = charnn.remove_chars(corpus, ['}','$','_','<','\\ufeff'])\n",
    "print(f'Removed {n_removed} chars')\n",
    "\n",
    "# After removing the chars, re-create the mappings\n",
    "char_to_idx, idx_to_char = charnn.char_maps(corpus)"
   ]
  },
  {
   "cell_type": "markdown",
   "metadata": {},
   "source": [
    "The next thing we need is an **embedding** of the chracters.\n",
    "An embedding is a representation of each token from the sequence as a tensor.\n",
    "For a char-level RNN, our tokens will be chars and we can thus use the simplest possible embedding: encode each char as a **one-hot** tensor. In other words, each char will be represented\n",
    "as a tensor whos length is the total number of unique chars (`V`) which contains all zeros except at the index\n",
    "corresponding to that specific char.\n",
    "\n",
    "**TODO**: Implement the functions `chars_to_onehot()` and `onehot_to_chars()` in the `hw3/charnn.py` module."
   ]
  },
  {
   "cell_type": "code",
   "execution_count": 8,
   "metadata": {},
   "outputs": [
    {
     "name": "stdout",
     "output_type": "stream",
     "text": [
      "brine a maiden can season her praise in.\n",
      "   \n",
      "tensor([[0, 0, 0, 0, 0, 0, 0, 0, 0, 0, 0, 0, 0, 0, 0, 0, 0, 0, 0, 0, 0, 0, 0, 0,\n",
      "         0, 0, 0, 0, 0, 0, 0, 0, 0, 0, 0, 0, 0, 0, 0, 0, 0, 0, 0, 0, 0, 0, 0, 0,\n",
      "         0, 0, 0, 0, 0, 1, 0, 0, 0, 0, 0, 0, 0, 0, 0, 0, 0, 0, 0, 0, 0, 0, 0, 0,\n",
      "         0, 0, 0, 0, 0, 0],\n",
      "        [0, 0, 0, 0, 0, 0, 0, 0, 0, 0, 0, 0, 0, 0, 0, 0, 0, 0, 0, 0, 0, 0, 0, 0,\n",
      "         0, 0, 0, 0, 0, 0, 0, 0, 0, 0, 0, 0, 0, 0, 0, 0, 0, 0, 0, 0, 0, 0, 0, 0,\n",
      "         0, 0, 0, 0, 0, 0, 0, 0, 0, 0, 0, 0, 0, 0, 0, 0, 0, 0, 0, 0, 0, 1, 0, 0,\n",
      "         0, 0, 0, 0, 0, 0],\n",
      "        [0, 0, 0, 0, 0, 0, 0, 0, 0, 0, 0, 0, 0, 0, 0, 0, 0, 0, 0, 0, 0, 0, 0, 0,\n",
      "         0, 0, 0, 0, 0, 0, 0, 0, 0, 0, 0, 0, 0, 0, 0, 0, 0, 0, 0, 0, 0, 0, 0, 0,\n",
      "         0, 0, 0, 0, 0, 0, 0, 0, 0, 0, 0, 0, 1, 0, 0, 0, 0, 0, 0, 0, 0, 0, 0, 0,\n",
      "         0, 0, 0, 0, 0, 0]], dtype=torch.int8)\n"
     ]
    }
   ],
   "source": [
    "# Wrap the actual embedding functions for calling convenience\n",
    "def embed(text):\n",
    "    return charnn.chars_to_onehot(text, char_to_idx)\n",
    "\n",
    "def unembed(embedding):\n",
    "    return charnn.onehot_to_chars(embedding, idx_to_char)\n",
    "\n",
    "text_snippet = corpus[3104:3148]\n",
    "print(text_snippet)\n",
    "print(embed(text_snippet[0:3]))\n",
    "\n",
    "test.assertEqual(text_snippet, unembed(embed(text_snippet)))\n",
    "test.assertEqual(embed(text_snippet).dtype, torch.int8)"
   ]
  },
  {
   "cell_type": "markdown",
   "metadata": {},
   "source": [
    "### Dataset Creation\n",
    "<a id=part1_4></a>"
   ]
  },
  {
   "cell_type": "markdown",
   "metadata": {},
   "source": [
    "We wish to train our model to generate text by constantly predicting what the next char should be based on the past.\n",
    "To that end we'll need to train our recurrent network in a way similar to a classification task. At each timestep, we input a char and set the expected output (label) to be the next char in the original sequence.\n",
    "\n",
    "We will split our corpus into shorter sequences of length `S` chars (see question below).\n",
    "Each **sample** we provide our model with will therefore be a tensor of shape `(S,V)` where `V` is the embedding dimension. Our model will operate sequentially on each char in the sequence.\n",
    "For each sample, we'll also need a **label**. This is simply another sequence, shifted by one char so that the label of each char is the next char in the corpus."
   ]
  },
  {
   "cell_type": "markdown",
   "metadata": {},
   "source": [
    "**TODO**: Implement the `chars_to_labelled_samples()` function in the `hw3/charnn.py` module."
   ]
  },
  {
   "cell_type": "code",
   "execution_count": 9,
   "metadata": {},
   "outputs": [
    {
     "name": "stdout",
     "output_type": "stream",
     "text": [
      "samples shape: torch.Size([99182, 64, 78])\n",
      "labels shape: torch.Size([99182, 64])\n"
     ]
    }
   ],
   "source": [
    "# Create dataset of sequences\n",
    "seq_len = 64\n",
    "vocab_len = len(char_to_idx)\n",
    "\n",
    "# Create labelled samples\n",
    "samples, labels = charnn.chars_to_labelled_samples(corpus, char_to_idx, seq_len, device)\n",
    "print(f'samples shape: {samples.shape}')\n",
    "print(f'labels shape: {labels.shape}')\n",
    "\n",
    "# Test shapes\n",
    "num_samples = (len(corpus) - 1) // seq_len\n",
    "test.assertEqual(samples.shape, (num_samples, seq_len, vocab_len))\n",
    "test.assertEqual(labels.shape, (num_samples, seq_len))\n",
    "\n",
    "# Test content\n",
    "for _ in range(1000):\n",
    "    # random sample\n",
    "    i = np.random.randint(num_samples, size=(1,))[0]\n",
    "    # Compare to corpus\n",
    "    test.assertEqual(unembed(samples[i]), corpus[i*seq_len:(i+1)*seq_len], msg=f\"content mismatch in sample {i}\")\n",
    "    # Compare to labels\n",
    "    sample_text = unembed(samples[i])\n",
    "    label_text = str.join('', [idx_to_char[j.item()] for j in labels[i]])\n",
    "    test.assertEqual(sample_text[1:], label_text[0:-1], msg=f\"label mismatch in sample {i}\")"
   ]
  },
  {
   "cell_type": "markdown",
   "metadata": {},
   "source": [
    "Let's print a few consecutive samples. You should see that the text continues between them."
   ]
  },
  {
   "cell_type": "code",
   "execution_count": 10,
   "metadata": {},
   "outputs": [
    {
     "name": "stdout",
     "output_type": "stream",
     "text": [
      "sample [98265]:\n",
      "\tis fathers are more beautiful? Or is the adder better than the e\n",
      "sample [98266]:\n",
      "\tel, Because his painted skin contents the eye? O, no, good Kate;\n",
      "sample [98267]:\n",
      "\tneither art thou the worse For this poor furniture and mean arr\n",
      "sample [98268]:\n",
      "\tay. if thou account'st it shame. lay it on me; And therefore fro\n",
      "sample [98269]:\n",
      "\tlic: we will hence forthwith, To feast and sport us at thy fathe\n"
     ]
    }
   ],
   "source": [
    "import re\n",
    "import random\n",
    "\n",
    "i = random.randrange(num_samples-5)\n",
    "for i in range(i, i+5):\n",
    "    s = re.sub(r'\\s+', ' ', unembed(samples[i])).strip()\n",
    "    print(f'sample [{i}]:\\n\\t{s}')"
   ]
  },
  {
   "cell_type": "markdown",
   "metadata": {},
   "source": [
    "As usual, instead of feeding one sample at a time into our model's forward we'll work with **batches** of samples. This means that at every timestep, our model will operate on a batch of chars that are from **different sequences**.\n",
    "Effectively this will allow us to parallelize training our model by dong matrix-matrix multiplications\n",
    "instead of matrix-vector during the forward pass."
   ]
  },
  {
   "cell_type": "markdown",
   "metadata": {},
   "source": [
    "An important nuance is that we need the batches to be **contiguous**, i.e. sample $k$ in batch $j$ should continue sample $k$ from batch $j-1$.\n",
    "The following figure illustrates this:\n",
    "\n",
    "<img src=\"imgs/rnn-batching.png\"/>\n",
    "\n",
    "If we naïvely take consecutive samples into batches, e.g. `[0,1,...,B-1]`, `[B,B+1,...,2B-1]` and so on, we won't have contiguous\n",
    "sequences at the same index between adjacent batches.\n",
    "\n",
    "To accomplish this we need to tell our `DataLoader` which samples to combine together into one batch.\n",
    "We do this by implementing a custom PyTorch `Sampler`, and providing it to our `DataLoader`."
   ]
  },
  {
   "cell_type": "markdown",
   "metadata": {},
   "source": [
    "**TODO**: Implement the `SequenceBatchSampler` class in the `hw3/charnn.py` module."
   ]
  },
  {
   "cell_type": "code",
   "execution_count": 11,
   "metadata": {},
   "outputs": [
    {
     "name": "stdout",
     "output_type": "stream",
     "text": [
      "sampler_idx =\n",
      " [0, 3, 6, 9, 12, 15, 18, 21, 24, 27, 1, 4, 7, 10, 13, 16, 19, 22, 25, 28, 2, 5, 8, 11, 14, 17, 20, 23, 26, 29]\n"
     ]
    }
   ],
   "source": [
    "from hw3.charnn import SequenceBatchSampler\n",
    "\n",
    "sampler = SequenceBatchSampler(dataset=range(32), batch_size=10)\n",
    "sampler_idx = list(sampler)\n",
    "print('sampler_idx =\\n', sampler_idx)\n",
    "\n",
    "# Test the Sampler\n",
    "test.assertEqual(len(sampler_idx), 30)\n",
    "batch_idx = np.array(sampler_idx).reshape(-1, 10)\n",
    "for k in range(10):\n",
    "    test.assertEqual(np.diff(batch_idx[:, k], n=2).item(), 0)"
   ]
  },
  {
   "cell_type": "markdown",
   "metadata": {},
   "source": [
    "Even though we're working with sequences, we can still use the standard PyTorch `Dataset`/`DataLoader` combo.\n",
    "For the dataset we can use a built-in class, `TensorDataset` to return tuples of `(sample, label)`\n",
    "from the `samples` and `labels` tensors we created above.\n",
    "The `DataLoader` will be provided with our custom `Sampler` so that it generates appropriate batches."
   ]
  },
  {
   "cell_type": "code",
   "execution_count": 12,
   "metadata": {},
   "outputs": [],
   "source": [
    "import torch.utils.data\n",
    "\n",
    "# Create DataLoader returning batches of samples.\n",
    "batch_size = 32\n",
    "\n",
    "ds_corpus = torch.utils.data.TensorDataset(samples, labels)\n",
    "sampler_corpus = SequenceBatchSampler(ds_corpus, batch_size)\n",
    "dl_corpus = torch.utils.data.DataLoader(ds_corpus, batch_size=batch_size, sampler=sampler_corpus, shuffle=False)"
   ]
  },
  {
   "cell_type": "markdown",
   "metadata": {},
   "source": [
    "Let's see what that gives us:"
   ]
  },
  {
   "cell_type": "code",
   "execution_count": 13,
   "metadata": {},
   "outputs": [
    {
     "name": "stdout",
     "output_type": "stream",
     "text": [
      "num batches: 3100\n",
      "shape of a batch of samples: torch.Size([32, 64, 78])\n",
      "shape of a batch of labels: torch.Size([32, 64])\n"
     ]
    }
   ],
   "source": [
    "print(f'num batches: {len(dl_corpus)}')\n",
    "\n",
    "x0, y0 = next(iter(dl_corpus))\n",
    "print(f'shape of a batch of samples: {x0.shape}')\n",
    "print(f'shape of a batch of labels: {y0.shape}')"
   ]
  },
  {
   "cell_type": "markdown",
   "metadata": {},
   "source": [
    "Now lets look at the same sample index from multiple batches taken from our corpus."
   ]
  },
  {
   "cell_type": "code",
   "execution_count": 14,
   "metadata": {},
   "outputs": [
    {
     "name": "stdout",
     "output_type": "stream",
     "text": [
      "=== batch 0, sample 16 (torch.Size([64, 78])): ===\n",
      "\tROBIN. Sir, here's a woman would speak with you. FALSTAFF.\n",
      "=== batch 1, sample 16 (torch.Size([64, 78])): ===\n",
      "\tLet her approach. Enter MISTRESS QUICKLY\n",
      "=== batch 2, sample 16 (torch.Size([64, 78])): ===\n",
      "\tQUICKLY. Give your worship good morrow. FALSTAFF. Good mo\n",
      "=== batch 3, sample 16 (torch.Size([64, 78])): ===\n",
      "\trrow, good wife. QUICKLY. Not so, an't please your worship.\n",
      "=== batch 4, sample 16 (torch.Size([64, 78])): ===\n",
      "\tFALSTAFF. Good maid, then. QUICKLY. I'll be sworn; As my m\n"
     ]
    }
   ],
   "source": [
    "# Check that sentences in in same index of different batches complete each other.\n",
    "k = random.randrange(batch_size)\n",
    "for j, (X, y) in enumerate(dl_corpus,):\n",
    "    print(f'=== batch {j}, sample {k} ({X[k].shape}): ===')\n",
    "    s = re.sub(r'\\s+', ' ', unembed(X[k])).strip()\n",
    "    print(f'\\t{s}')\n",
    "    if j==4: break"
   ]
  },
  {
   "cell_type": "markdown",
   "metadata": {},
   "source": [
    "### Model Implementation\n",
    "<a id=part1_5></a>"
   ]
  },
  {
   "cell_type": "markdown",
   "metadata": {},
   "source": [
    "Finally, our data set is ready so we can focus on our model.\n",
    "\n",
    "We'll implement here is a multilayer gated recurrent unit (GRU) model, with dropout.\n",
    "This model is a type of RNN which performs similar to the well-known LSTM model,\n",
    "but it's somewhat easier to train because it has less parameters.\n",
    "We'll modify the regular GRU slightly by applying dropout to\n",
    "the hidden states passed between layers of the model.\n",
    "\n",
    "The model accepts an input $\\mat{X}\\in\\set{R}^{S\\times V}$ containing a sequence of embedded chars.\n",
    "It returns an output $\\mat{Y}\\in\\set{R}^{S\\times V}$ of predictions for the next char and the final hidden state\n",
    "$\\mat{H}\\in\\set{R}^{L\\times H}$. Here $S$ is the sequence length, $V$ is the vocabulary size (number of unique chars), $L$ is the number of layers in the model and $H$ is the hidden dimension."
   ]
  },
  {
   "cell_type": "markdown",
   "metadata": {},
   "source": [
    "Mathematically, the model's forward function at layer $k\\in[1,L]$ and timestep $t\\in[1,S]$ can be described as\n",
    "\n",
    "$$\n",
    "\\begin{align}\n",
    "\\vec{z_t}^{[k]} &= \\sigma\\left(\\vec{x}^{[k]}_t {\\mattr{W}_{\\mathrm{xz}}}^{[k]} +\n",
    "    \\vec{h}_{t-1}^{[k]} {\\mattr{W}_{\\mathrm{hz}}}^{[k]} + \\vec{b}_{\\mathrm{z}}^{[k]}\\right) \\\\\n",
    "\\vec{r_t}^{[k]} &= \\sigma\\left(\\vec{x}^{[k]}_t {\\mattr{W}_{\\mathrm{xr}}}^{[k]} +\n",
    "    \\vec{h}_{t-1}^{[k]} {\\mattr{W}_{\\mathrm{hr}}}^{[k]} + \\vec{b}_{\\mathrm{r}}^{[k]}\\right) \\\\\n",
    "\\vec{g_t}^{[k]} &= \\tanh\\left(\\vec{x}^{[k]}_t {\\mattr{W}_{\\mathrm{xg}}}^{[k]} +\n",
    "    (\\vec{r_t}^{[k]}\\odot\\vec{h}_{t-1}^{[k]}) {\\mattr{W}_{\\mathrm{hg}}}^{[k]} + \\vec{b}_{\\mathrm{g}}^{[k]}\\right) \\\\\n",
    "\\vec{h_t}^{[k]} &= \\vec{z}^{[k]}_t \\odot \\vec{h}^{[k]}_{t-1} + \\left(1-\\vec{z}^{[k]}_t\\right)\\odot \\vec{g_t}^{[k]}\n",
    "\\end{align}\n",
    "$$"
   ]
  },
  {
   "cell_type": "markdown",
   "metadata": {},
   "source": [
    "The input to each layer is,\n",
    "$$\n",
    "\\mat{X}^{[k]} =\n",
    "\\begin{bmatrix}\n",
    "    {\\vec{x}_1}^{[k]} \\\\ \\vdots \\\\ {\\vec{x}_S}^{[k]}\n",
    "\\end{bmatrix} \n",
    "=\n",
    "\\begin{cases}\n",
    "    \\mat{X} & \\mathrm{if} ~k = 1~ \\\\\n",
    "    \\mathrm{dropout}_p \\left(\n",
    "    \\begin{bmatrix}\n",
    "        {\\vec{h}_1}^{[k-1]} \\\\ \\vdots \\\\ {\\vec{h}_S}^{[k-1]}\n",
    "    \\end{bmatrix} \\right) & \\mathrm{if} ~1 < k \\leq L+1~\n",
    "\\end{cases}.\n",
    "$$"
   ]
  },
  {
   "cell_type": "markdown",
   "metadata": {},
   "source": [
    "The output of the entire model is then,\n",
    "$$\n",
    "\\mat{Y} = \\mat{X}^{[L+1]} {\\mattr{W}_{\\mathrm{hy}}} + \\mat{B}_{\\mathrm{y}}\n",
    "$$"
   ]
  },
  {
   "cell_type": "markdown",
   "metadata": {},
   "source": [
    "and the final hidden state is\n",
    "$$\n",
    "\\mat{H} = \n",
    "\\begin{bmatrix}\n",
    "    {\\vec{h}_S}^{[1]} \\\\ \\vdots \\\\ {\\vec{h}_S}^{[L]}\n",
    "\\end{bmatrix}.\n",
    "$$"
   ]
  },
  {
   "cell_type": "markdown",
   "metadata": {},
   "source": [
    "Notes:\n",
    "- $t\\in[1,S]$ is the timestep, i.e. the current position within the sequence of each sample.\n",
    "- $\\vec{x}_t^{[k]}$ is the input of layer $k$ at timestep $t$, respectively.\n",
    "- The outputs of the **last layer** $\\vec{y}_t^{[L]}$, are the predicted next characters for every input char.\n",
    "  These are similar to class scores in classification tasks.\n",
    "- The hidden states at the **last timestep**, $\\vec{h}_S^{[k]}$, are the final hidden state returned from the model.\n",
    "- $\\sigma(\\cdot)$ is the sigmoid function, i.e. $\\sigma(\\vec{z}) = 1/(1+e^{-\\vec{z}})$ which returns values in $(0,1)$.\n",
    "- $\\tanh(\\cdot)$ is the hyperbolic tangent, i.e. $\\tanh(\\vec{z}) = (e^{2\\vec{z}}-1)/(e^{2\\vec{z}}+1)$ which returns values in $(-1,1)$.\n",
    "- $\\vec{h_t}^{[k]}$ is the hidden state of layer $k$ at time $t$. This can be thought of as the memory of that layer.\n",
    "- $\\vec{g_t}^{[k]}$ is the candidate hidden state for time $t+1$.\n",
    "- $\\vec{z_t}^{[k]}$ is known as the update gate. It combines the previous state with the input to determine how much the current state will be combined with the new candidate state. For example, if $\\vec{z_t}^{[k]}=\\vec{1}$ then the current input has no effect on the output.\n",
    "- $\\vec{r_t}^{[k]}$ is known as the reset gate. It combines the previous state with the input to determine how much of the previous state will affect the current state candidate. For example if $\\vec{r_t}^{[k]}=\\vec{0}$ the previous state has no effect on the current candidate state."
   ]
  },
  {
   "cell_type": "markdown",
   "metadata": {},
   "source": [
    "Here's a graphical representation of the GRU's forward pass at each timestep. The $\\vec{\\tilde{h}}$ in the image is our $\\vec{g}$ (candidate next state).\n",
    "\n",
    "<img src=\"imgs/gru_cell.png\" width=\"400\"/>\n",
    "\n",
    "You can see how the reset and update gates allow the model to completely ignore it's previous state, completely ignore it's input, or any mixture of those states (since the gates are actually continuous and between $(0,1)$)."
   ]
  },
  {
   "cell_type": "markdown",
   "metadata": {},
   "source": [
    "Here's a graphical representation of the entire model.\n",
    "You can ignore the $c_t^{[k]}$ (cell state) variables (which are relevant for LSTM models).\n",
    "Our model has only the hidden state, $h_t^{[k]}$. Also notice that we added dropout between layers (i.e., on the up arrows).\n",
    "\n",
    "<img src=\"imgs/lstm_model.png\" />\n",
    "\n",
    "The purple tensors are inputs (a sequence and initial hidden state per layer), and the green tensors are outputs (another sequence and final hidden state per layer). Each blue block implements the above forward equations.\n",
    "Blocks that are on the same vertical level are at the same layer, and therefore share parameters."
   ]
  },
  {
   "cell_type": "markdown",
   "metadata": {},
   "source": [
    "**TODO**: Implement the `MultilayerGRU` class in the `hw3/charnn.py` module.\n",
    "\n",
    "Notes:\n",
    "- You'll need to handle input **batches** now.\n",
    "  The math is identical to the above, but all the tensors will have an extra batch\n",
    "  dimension as their first dimension.\n",
    "- Use the diagram above to help guide your implementation.\n",
    "  It will help you visualize what shapes to returns where, etc.\n"
   ]
  },
  {
   "cell_type": "code",
   "execution_count": 15,
   "metadata": {},
   "outputs": [
    {
     "name": "stdout",
     "output_type": "stream",
     "text": [
      "cuda:0\n"
     ]
    }
   ],
   "source": [
    "print(x0.device)"
   ]
  },
  {
   "cell_type": "code",
   "execution_count": 16,
   "metadata": {},
   "outputs": [
    {
     "name": "stdout",
     "output_type": "stream",
     "text": [
      "\n",
      "Layer : 0\n",
      "\tType : W_xz, size = torch.Size([78, 256]), device = cpu\n",
      "\tType : W_xr, size = torch.Size([78, 256]), device = cpu\n",
      "\tType : W_xg, size = torch.Size([78, 256]), device = cpu\n",
      "\tType : W_hz, size = torch.Size([256, 256]), device = cpu\n",
      "\tType : W_hr, size = torch.Size([256, 256]), device = cpu\n",
      "\tType : W_hg, size = torch.Size([256, 256]), device = cpu\n",
      "\tType : b_z, size = torch.Size([256]), device = cpu\n",
      "\tType : b_r, size = torch.Size([256]), device = cpu\n",
      "\tType : b_g, size = torch.Size([256]), device = cpu\n",
      "Layer : 1\n",
      "\tType : W_xz, size = torch.Size([256, 256]), device = cpu\n",
      "\tType : W_xr, size = torch.Size([256, 256]), device = cpu\n",
      "\tType : W_xg, size = torch.Size([256, 256]), device = cpu\n",
      "\tType : W_hz, size = torch.Size([256, 256]), device = cpu\n",
      "\tType : W_hr, size = torch.Size([256, 256]), device = cpu\n",
      "\tType : W_hg, size = torch.Size([256, 256]), device = cpu\n",
      "\tType : b_z, size = torch.Size([256]), device = cpu\n",
      "\tType : b_r, size = torch.Size([256]), device = cpu\n",
      "\tType : b_g, size = torch.Size([256]), device = cpu\n",
      "Layer : 2\n",
      "\tType : W_xz, size = torch.Size([256, 256]), device = cpu\n",
      "\tType : W_xr, size = torch.Size([256, 256]), device = cpu\n",
      "\tType : W_xg, size = torch.Size([256, 256]), device = cpu\n",
      "\tType : W_hz, size = torch.Size([256, 256]), device = cpu\n",
      "\tType : W_hr, size = torch.Size([256, 256]), device = cpu\n",
      "\tType : W_hg, size = torch.Size([256, 256]), device = cpu\n",
      "\tType : b_z, size = torch.Size([256]), device = cpu\n",
      "\tType : b_r, size = torch.Size([256]), device = cpu\n",
      "\tType : b_g, size = torch.Size([256]), device = cpu\n",
      "Layer : 3\n",
      "\tType : W_hy, size = torch.Size([256, 78]), device = cpu\n",
      "\tType : b_y, size = torch.Size([78]), device = cpu\n",
      "y.shape=torch.Size([32, 64, 78])\n",
      "h.shape=torch.Size([32, 3, 256])\n"
     ]
    }
   ],
   "source": [
    "in_dim = vocab_len\n",
    "h_dim = 256\n",
    "n_layers = 3\n",
    "model = charnn.MultilayerGRU(in_dim, h_dim, out_dim=in_dim, n_layers=n_layers)\n",
    "print(model)\n",
    "\n",
    "model = model.to(device)\n",
    "\n",
    "\n",
    "# Test forward pass\n",
    "y, h = model(x0.to(dtype=torch.float))\n",
    "print(f'y.shape={y.shape}')\n",
    "print(f'h.shape={h.shape}')\n",
    "\n",
    "test.assertEqual(y.shape, (batch_size, seq_len, vocab_len))\n",
    "test.assertEqual(h.shape, (batch_size, n_layers, h_dim))\n",
    "test.assertEqual(len(list(model.parameters())), 9 * n_layers + 2) "
   ]
  },
  {
   "cell_type": "markdown",
   "metadata": {},
   "source": [
    "### Generating text by sampling\n",
    "<a id=part1_6></a>"
   ]
  },
  {
   "cell_type": "markdown",
   "metadata": {},
   "source": [
    "Now that we have a model, we can implement **text generation** based on it.\n",
    "The idea is simple:\n",
    "At each timestep our model receives one char $x_t$ from the input sequence and outputs scores $y_t$\n",
    "for what the next char should be.\n",
    "We'll convert these scores into a probability over each of the possible chars.\n",
    "In other words, for each input char $x_t$ we create a probability distribution for the next char\n",
    "conditioned on the current one and the state of the model (representing all previous inputs):\n",
    "$$p(x_{t+1}|x_t, \\vec{h}_t).$$\n",
    "\n",
    "Once we have such a distribution, we'll sample a char from it.\n",
    "This will be the first char of our generated sequence.\n",
    "Now we can feed this new char into the model, create another distribution, sample the next char and so on.\n",
    "Note that it's crucial to propagate the hidden state when sampling."
   ]
  },
  {
   "cell_type": "markdown",
   "metadata": {},
   "source": [
    "The important point however is how to create the distribution from the scores.\n",
    "One way, as we saw in previous ML tasks, is to use the softmax function.\n",
    "However, a drawback of softmax is that it can generate very diffuse (more uniform) distributions if the score values are very similar. When sampling, we would prefer to control the distributions and make them less uniform to increase the chance of sampling the char(s) with the highest scores compared to the others.\n",
    "\n",
    "To control the variance of the distribution, a common trick is to add a hyperparameter $T$, known as the \n",
    "*temperature* to the softmax function. The class scores are simply scaled by $T$ before softmax is applied:\n",
    "$$\n",
    "\\mathrm{softmax}_T(\\vec{y}) = \\frac{e^{\\vec{y}/T}}{\\sum_k e^{y_k/T}}\n",
    "$$\n",
    "\n",
    "A low $T$ will result in less uniform distributions and vice-versa."
   ]
  },
  {
   "cell_type": "markdown",
   "metadata": {},
   "source": [
    "**TODO**: Implement the `hot_softmax()` function in the `hw3/charnn.py` module."
   ]
  },
  {
   "cell_type": "code",
   "execution_count": 17,
   "metadata": {},
   "outputs": [
    {
     "data": {
      "image/png": "[encoded data removed]",
      "text/plain": [
       "<Figure size 1080x360 with 1 Axes>"
      ]
     },
     "metadata": {
      "needs_background": "light"
     },
     "output_type": "display_data"
    }
   ],
   "source": [
    "scores = y[0,0,:].detach()\n",
    "_, ax = plt.subplots(figsize=(15,5))\n",
    "\n",
    "for t in reversed([0.3, 0.5, 1.0, 100]):\n",
    "    ax.plot(charnn.hot_softmax(scores, temperature=t).cpu().numpy(), label=f'T={t}')\n",
    "ax.set_xlabel('$x_{t+1}$')\n",
    "ax.set_ylabel('$p(x_{t+1}|x_t)$')\n",
    "ax.legend()\n",
    "\n",
    "uniform_proba = 1/len(char_to_idx)\n",
    "uniform_diff = torch.abs(charnn.hot_softmax(scores, temperature=100) - uniform_proba)\n",
    "test.assertTrue(torch.all(uniform_diff < 1e-4))"
   ]
  },
  {
   "cell_type": "markdown",
   "metadata": {},
   "source": [
    "**TODO**: Implement the `generate_from_model()` function in the `hw3/charnn.py` module."
   ]
  },
  {
   "cell_type": "code",
   "execution_count": 18,
   "metadata": {},
   "outputs": [
    {
     "name": "stdout",
     "output_type": "stream",
     "text": [
      "foobar5SF:CHKwrwrK[VHR;fEe'N.Z(X,h90'Kic3\":ZHD?5a)\n",
      "foobardxei. I2tFZXQXYxlrowV1nWhCpx)kx[VZgtjJ3xJz?Z\n",
      "foobarRcL)BasFD0&m!?p'Y1cc)e1iGf)lfMXfpqw'YeHE1I[-\n"
     ]
    }
   ],
   "source": [
    "for _ in range(3):\n",
    "    text = charnn.generate_from_model(model, \"foobar\", 50, (char_to_idx, idx_to_char), T=0.5)\n",
    "    print(text)\n",
    "    test.assertEqual(len(text), 50)"
   ]
  },
  {
   "cell_type": "markdown",
   "metadata": {},
   "source": [
    "### Training\n",
    "<a id=part1_7></a>"
   ]
  },
  {
   "cell_type": "markdown",
   "metadata": {},
   "source": [
    "To train this model, we'll calculate the loss at each time step by comparing the predicted char to\n",
    "the actual char from our label. We can use cross entropy since per char it's similar to a classification problem.\n",
    "We'll then sum the losses over the sequence and back-propagate the gradients though time.\n",
    "Notice that the back-propagation algorithm will \"visit\" each layer's parameter tensors multiple times,\n",
    "so we'll accumulate gradients in parameters of the blocks. Luckily `autograd` will handle this part for us."
   ]
  },
  {
   "cell_type": "markdown",
   "metadata": {},
   "source": [
    "As usual, the first step of training will be to try and **overfit** a large model (many parameters) to a tiny dataset.\n",
    "Again, this is to ensure the model and training code are implemented correctly, i.e. that the model can learn.\n",
    "\n",
    "For a generative model such as this, overfitting is slightly trickier than for for classification.\n",
    "What we'll aim to do is to get our model to **memorize** a specific sequence of chars, so that when given the first\n",
    "char in the sequence it will immediately spit out the rest of the sequence verbatim.\n",
    "\n",
    "Let's create a tiny dataset to memorize."
   ]
  },
  {
   "cell_type": "code",
   "execution_count": 19,
   "metadata": {},
   "outputs": [
    {
     "name": "stdout",
     "output_type": "stream",
     "text": [
      "Text to \"memorize\":\n",
      "\n",
      "TRAM. What would you have?\n",
      "  HELENA. Something; and scarce so much; nothing, indeed.\n",
      "    I would not tell you what I would, my lord.\n",
      "    Faith, yes:\n",
      "    Strangers and foes do sunder and not kiss.\n",
      "  BERTRAM. I pray you, stay not, but in haste to horse.\n",
      "  HE\n"
     ]
    }
   ],
   "source": [
    "# Pick a tiny subset of the dataset\n",
    "subset_start, subset_end = 1001, 1005\n",
    "ds_corpus_ss = torch.utils.data.Subset(ds_corpus, range(subset_start, subset_end))\n",
    "batch_size_ss = 1\n",
    "sampler_ss = SequenceBatchSampler(ds_corpus_ss, batch_size=batch_size_ss)\n",
    "dl_corpus_ss = torch.utils.data.DataLoader(ds_corpus_ss, batch_size_ss, sampler=sampler_ss, shuffle=False)\n",
    "\n",
    "# Convert subset to text\n",
    "subset_text = ''\n",
    "for i in range(subset_end - subset_start):\n",
    "    subset_text += unembed(ds_corpus_ss[i][0])\n",
    "print(f'Text to \"memorize\":\\n\\n{subset_text}')"
   ]
  },
  {
   "cell_type": "markdown",
   "metadata": {},
   "source": [
    "Now let's implement the first part of our training code.\n",
    "\n",
    "**TODO**: Implement the `train_epoch()` and `train_batch()` methods of the `RNNTrainer` class in the `hw3/training.py` module. \n",
    "You must think about how to correctly handle the hidden state of the model between batches and epochs for this specific task (i.e. text generation)."
   ]
  },
  {
   "cell_type": "code",
   "execution_count": 20,
   "metadata": {},
   "outputs": [
    {
     "name": "stdout",
     "output_type": "stream",
     "text": [
      "train_batch (Avg. Loss 4.081, Accuracy 17.6): 100%|██████████| 4/4 [00:00<00:00, 11.40it/s]\n",
      "\n",
      "Epoch #1: Avg. loss = 4.081, Accuracy = 17.58%\n",
      "Twnio   t   t  t to  o      to  t o      ttot  t  o t       t  o o o  o     ttoo t   too  ot t   o       oo t  t      tot o    t  o toot   ottt          t   o   t t    t  t    o t t o   t  o t    t  o   o     o oo     t  o tt  t       t       t  t  tt tt  \n",
      "train_batch (Avg. Loss 3.410, Accuracy 21.9): 100%|██████████| 4/4 [00:00<00:00, 11.96it/s]\n",
      "train_batch (Avg. Loss 3.225, Accuracy 21.9): 100%|██████████| 4/4 [00:00<00:00, 12.14it/s]\n",
      "train_batch (Avg. Loss 3.205, Accuracy 21.9): 100%|██████████| 4/4 [00:00<00:00, 11.58it/s]\n",
      "train_batch (Avg. Loss 3.181, Accuracy 21.9): 100%|██████████| 4/4 [00:00<00:00, 11.76it/s]\n",
      "train_batch (Avg. Loss 5.045, Accuracy 17.6): 100%|██████████| 4/4 [00:00<00:00, 12.14it/s]\n",
      "train_batch (Avg. Loss 3.191, Accuracy 21.9): 100%|██████████| 4/4 [00:00<00:00, 12.04it/s]\n",
      "train_batch (Avg. Loss 3.169, Accuracy 21.9): 100%|██████████| 4/4 [00:00<00:00, 11.92it/s]\n",
      "train_batch (Avg. Loss 3.161, Accuracy 21.9): 100%|██████████| 4/4 [00:00<00:00, 11.55it/s]\n",
      "train_batch (Avg. Loss 3.153, Accuracy 21.9): 100%|██████████| 4/4 [00:00<00:00, 11.76it/s]\n",
      "train_batch (Avg. Loss 3.127, Accuracy 21.9): 100%|██████████| 4/4 [00:00<00:00, 11.88it/s]\n",
      "train_batch (Avg. Loss 3.074, Accuracy 21.9): 100%|██████████| 4/4 [00:00<00:00, 11.87it/s]\n",
      "train_batch (Avg. Loss 3.010, Accuracy 21.9): 100%|██████████| 4/4 [00:00<00:00, 11.68it/s]\n",
      "train_batch (Avg. Loss 2.943, Accuracy 24.2): 100%|██████████| 4/4 [00:00<00:00, 11.86it/s]\n",
      "train_batch (Avg. Loss 2.864, Accuracy 23.4): 100%|██████████| 4/4 [00:00<00:00, 11.83it/s]\n",
      "train_batch (Avg. Loss 2.764, Accuracy 25.4): 100%|██████████| 4/4 [00:00<00:00, 11.63it/s]\n",
      "train_batch (Avg. Loss 2.674, Accuracy 26.2): 100%|██████████| 4/4 [00:00<00:00, 11.96it/s]\n",
      "train_batch (Avg. Loss 2.859, Accuracy 25.4): 100%|██████████| 4/4 [00:00<00:00, 12.15it/s]\n",
      "train_batch (Avg. Loss 2.565, Accuracy 25.0): 100%|██████████| 4/4 [00:00<00:00, 12.15it/s]\n",
      "train_batch (Avg. Loss 2.478, Accuracy 28.1): 100%|██████████| 4/4 [00:00<00:00, 12.10it/s]\n",
      "train_batch (Avg. Loss 2.371, Accuracy 30.1): 100%|██████████| 4/4 [00:00<00:00, 11.91it/s]\n",
      "train_batch (Avg. Loss 2.268, Accuracy 33.6): 100%|██████████| 4/4 [00:00<00:00, 11.96it/s]\n",
      "train_batch (Avg. Loss 2.157, Accuracy 35.5): 100%|██████████| 4/4 [00:00<00:00, 11.89it/s]\n",
      "train_batch (Avg. Loss 2.016, Accuracy 42.2): 100%|██████████| 4/4 [00:00<00:00, 11.32it/s]\n",
      "train_batch (Avg. Loss 1.882, Accuracy 44.9): 100%|██████████| 4/4 [00:00<00:00, 11.97it/s]\n",
      "\n",
      "Epoch #25: Avg. loss = 1.882, Accuracy = 44.92%\n",
      "Tn.   ingn.  and soangdo id no idt in and soangdo id soangdo id soangdo id soangd \n",
      "    s soangn.   ingd s y no idt nd no idt in and soangdo id soangd \n",
      "    s soangd \n",
      "    s soangdo I no idtand ngdo nd no idt id soanee\n",
      ".   id soangd \n",
      "    s soangn.   id s eoan\n",
      "train_batch (Avg. Loss 1.769, Accuracy 50.0): 100%|██████████| 4/4 [00:00<00:00, 12.20it/s]\n",
      "train_batch (Avg. Loss 1.673, Accuracy 53.1): 100%|██████████| 4/4 [00:00<00:00, 12.18it/s]\n",
      "train_batch (Avg. Loss 1.625, Accuracy 51.6): 100%|██████████| 4/4 [00:00<00:00, 11.68it/s]\n",
      "train_batch (Avg. Loss 1.666, Accuracy 52.0): 100%|██████████| 4/4 [00:00<00:00, 11.67it/s]\n",
      "train_batch (Avg. Loss 1.518, Accuracy 57.4): 100%|██████████| 4/4 [00:00<00:00, 12.16it/s]\n",
      "train_batch (Avg. Loss 1.422, Accuracy 57.0): 100%|██████████| 4/4 [00:00<00:00, 12.16it/s]\n",
      "train_batch (Avg. Loss 1.373, Accuracy 62.5): 100%|██████████| 4/4 [00:00<00:00, 11.97it/s]\n",
      "train_batch (Avg. Loss 1.282, Accuracy 65.6): 100%|██████████| 4/4 [00:00<00:00, 11.98it/s]\n",
      "train_batch (Avg. Loss 1.225, Accuracy 65.2): 100%|██████████| 4/4 [00:00<00:00, 11.94it/s]\n",
      "train_batch (Avg. Loss 1.109, Accuracy 72.3): 100%|██████████| 4/4 [00:00<00:00, 11.80it/s]\n",
      "train_batch (Avg. Loss 1.033, Accuracy 72.3): 100%|██████████| 4/4 [00:00<00:00, 11.96it/s]\n",
      "train_batch (Avg. Loss 0.975, Accuracy 75.8): 100%|██████████| 4/4 [00:00<00:00, 11.49it/s]\n",
      "train_batch (Avg. Loss 0.887, Accuracy 79.7): 100%|██████████| 4/4 [00:00<00:00, 11.63it/s]\n",
      "train_batch (Avg. Loss 0.826, Accuracy 78.5): 100%|██████████| 4/4 [00:00<00:00, 11.92it/s]\n",
      "train_batch (Avg. Loss 0.749, Accuracy 83.6): 100%|██████████| 4/4 [00:00<00:00, 11.74it/s]\n",
      "train_batch (Avg. Loss 0.668, Accuracy 85.2): 100%|██████████| 4/4 [00:00<00:00, 11.84it/s]\n",
      "train_batch (Avg. Loss 0.617, Accuracy 87.9): 100%|██████████| 4/4 [00:00<00:00, 11.95it/s]\n",
      "train_batch (Avg. Loss 0.564, Accuracy 89.5): 100%|██████████| 4/4 [00:00<00:00, 11.99it/s]\n",
      "train_batch (Avg. Loss 0.509, Accuracy 91.8): 100%|██████████| 4/4 [00:00<00:00, 11.97it/s]\n",
      "train_batch (Avg. Loss 0.463, Accuracy 92.6): 100%|██████████| 4/4 [00:00<00:00, 11.59it/s]\n",
      "train_batch (Avg. Loss 0.415, Accuracy 94.1): 100%|██████████| 4/4 [00:00<00:00, 12.15it/s]\n",
      "train_batch (Avg. Loss 0.380, Accuracy 95.3): 100%|██████████| 4/4 [00:00<00:00, 12.01it/s]\n",
      "train_batch (Avg. Loss 0.368, Accuracy 95.7): 100%|██████████| 4/4 [00:00<00:00, 12.18it/s]\n",
      "train_batch (Avg. Loss 0.378, Accuracy 93.0): 100%|██████████| 4/4 [00:00<00:00, 12.16it/s]\n",
      "train_batch (Avg. Loss 0.429, Accuracy 92.2): 100%|██████████| 4/4 [00:00<00:00, 11.77it/s]\n",
      "\n",
      "Epoch #50: Avg. loss = 0.429, Accuracy = 92.19%\n",
      "TRAM. What would you hhald you hhing; and, ingegn.a  ingegn:a  ingegn:a  ingegn:a  ingegn:a  ingers s sthing, indeed.\n",
      "    I would not tell you hohlc nothing, indeed.\n",
      "    I would not tinge s I would you kin.  BERTRAM. I would you kin.  BERTRAM. I would you \n",
      "train_batch (Avg. Loss 0.409, Accuracy 91.8): 100%|██████████| 4/4 [00:00<00:00, 12.20it/s]\n",
      "train_batch (Avg. Loss 0.381, Accuracy 91.4): 100%|██████████| 4/4 [00:00<00:00, 12.15it/s]\n",
      "train_batch (Avg. Loss 0.304, Accuracy 96.1): 100%|██████████| 4/4 [00:00<00:00, 11.92it/s]\n",
      "train_batch (Avg. Loss 0.262, Accuracy 97.3): 100%|██████████| 4/4 [00:00<00:00, 11.53it/s]\n",
      "train_batch (Avg. Loss 0.227, Accuracy 97.3): 100%|██████████| 4/4 [00:00<00:00, 11.73it/s]\n",
      "train_batch (Avg. Loss 0.214, Accuracy 97.7): 100%|██████████| 4/4 [00:00<00:00, 12.17it/s]\n",
      "train_batch (Avg. Loss 0.172, Accuracy 99.2): 100%|██████████| 4/4 [00:00<00:00, 11.96it/s]\n",
      "train_batch (Avg. Loss 0.152, Accuracy 99.2): 100%|██████████| 4/4 [00:00<00:00, 11.86it/s]\n",
      "train_batch (Avg. Loss 0.132, Accuracy 99.6): 100%|██████████| 4/4 [00:00<00:00, 11.70it/s]\n",
      "train_batch (Avg. Loss 0.119, Accuracy 100.0): 100%|██████████| 4/4 [00:00<00:00, 11.93it/s]\n",
      "train_batch (Avg. Loss 0.106, Accuracy 100.0): 100%|██████████| 4/4 [00:00<00:00,  8.48it/s]\n",
      "train_batch (Avg. Loss 0.095, Accuracy 100.0): 100%|██████████| 4/4 [00:00<00:00,  6.49it/s]\n",
      "train_batch (Avg. Loss 0.086, Accuracy 100.0): 100%|██████████| 4/4 [00:00<00:00,  6.39it/s]\n",
      "train_batch (Avg. Loss 0.079, Accuracy 100.0): 100%|██████████| 4/4 [00:00<00:00,  6.44it/s]\n",
      "train_batch (Avg. Loss 0.072, Accuracy 100.0): 100%|██████████| 4/4 [00:00<00:00,  6.49it/s]\n",
      "train_batch (Avg. Loss 0.067, Accuracy 100.0): 100%|██████████| 4/4 [00:00<00:00,  6.40it/s]\n",
      "train_batch (Avg. Loss 0.062, Accuracy 100.0): 100%|██████████| 4/4 [00:00<00:00,  6.45it/s]\n",
      "train_batch (Avg. Loss 0.058, Accuracy 100.0): 100%|██████████| 4/4 [00:00<00:00,  6.48it/s]\n",
      "train_batch (Avg. Loss 0.054, Accuracy 100.0): 100%|██████████| 4/4 [00:00<00:00,  6.53it/s]\n",
      "train_batch (Avg. Loss 0.051, Accuracy 100.0): 100%|██████████| 4/4 [00:00<00:00,  6.44it/s]\n",
      "train_batch (Avg. Loss 0.048, Accuracy 100.0): 100%|██████████| 4/4 [00:00<00:00,  6.47it/s]\n",
      "train_batch (Avg. Loss 0.045, Accuracy 100.0): 100%|██████████| 4/4 [00:00<00:00,  6.53it/s]\n",
      "train_batch (Avg. Loss 0.043, Accuracy 100.0): 100%|██████████| 4/4 [00:00<00:00,  6.48it/s]\n",
      "train_batch (Avg. Loss 0.041, Accuracy 100.0): 100%|██████████| 4/4 [00:00<00:00,  6.46it/s]\n",
      "train_batch (Avg. Loss 0.039, Accuracy 100.0): 100%|██████████| 4/4 [00:00<00:00,  6.44it/s]\n",
      "\n",
      "Epoch #75: Avg. loss = 0.039, Accuracy = 100.00%\n",
      "TRAM. What would you have?\n",
      "  HELENA. Something; and scarce so much; nothing, indeed.\n",
      "    I would not tell you what I would, my lord.\n",
      "    Faith, yes:\n",
      "    Strangers and foes do sunder and not kiss.\n",
      "  BERTRAM. I pray you, stay not, but in haste to horse.\n",
      "  HE\n"
     ]
    }
   ],
   "source": [
    "import torch.nn as nn\n",
    "import torch.optim as optim\n",
    "from hw3.training import RNNTrainer\n",
    "\n",
    "torch.manual_seed(42)\n",
    "\n",
    "lr = 0.01\n",
    "num_epochs = 500\n",
    "\n",
    "in_dim = vocab_len\n",
    "h_dim = 128\n",
    "n_layers = 2\n",
    "loss_fn = nn.CrossEntropyLoss()\n",
    "model = charnn.MultilayerGRU(in_dim, h_dim, out_dim=in_dim, n_layers=n_layers).to(device)\n",
    "optimizer = optim.Adam(model.parameters(), lr=lr)\n",
    "trainer = RNNTrainer(model, loss_fn, optimizer, device)\n",
    "\n",
    "for epoch in range(num_epochs):\n",
    "    epoch_result = trainer.train_epoch(dl_corpus_ss, verbose=False)\n",
    "    \n",
    "    # Every X epochs, we'll generate a sequence starting from the first char in the first sequence\n",
    "    # to visualize how/if/what the model is learning.\n",
    "    if epoch == 0 or (epoch+1) % 25 == 0:\n",
    "        avg_loss = np.mean(epoch_result.losses)\n",
    "        accuracy = np.mean(epoch_result.accuracy)\n",
    "        print(f'\\nEpoch #{epoch+1}: Avg. loss = {avg_loss:.3f}, Accuracy = {accuracy:.2f}%')\n",
    "        \n",
    "        generated_sequence = charnn.generate_from_model(model, subset_text[0],\n",
    "                                                        seq_len*(subset_end-subset_start),\n",
    "                                                        (char_to_idx,idx_to_char), T=0.1)\n",
    "        \n",
    "        # Stop if we've successfully memorized the small dataset.\n",
    "        print(generated_sequence)\n",
    "        if generated_sequence == subset_text:\n",
    "            break\n",
    "\n",
    "# Test successful overfitting\n",
    "test.assertGreater(epoch_result.accuracy, 99)\n",
    "test.assertEqual(generated_sequence, subset_text)"
   ]
  },
  {
   "cell_type": "markdown",
   "metadata": {},
   "source": [
    "OK, so training works - we can memorize a short sequence.\n",
    "We'll now train a much larger model on our large dataset. You'll need a GPU for this part.\n",
    "\n",
    "First, lets set up our dataset and models for training.\n",
    "We'll split our corpus into 90% train and 10% test-set.\n",
    "Also, we'll use a learning-rate scheduler to control the learning rate during training."
   ]
  },
  {
   "cell_type": "markdown",
   "metadata": {},
   "source": [
    "**TODO**: Set the hyperparameters in the `part1_rnn_hyperparams()` function of the `hw3/answers.py` module."
   ]
  },
  {
   "cell_type": "code",
   "execution_count": 21,
   "metadata": {},
   "outputs": [
    {
     "name": "stdout",
     "output_type": "stream",
     "text": [
      "hyperparams:\n",
      " {'batch_size': 128, 'seq_len': 50, 'h_dim': 256, 'n_layers': 3, 'dropout': 0.2, 'learn_rate': 0.001, 'lr_sched_factor': 0.8, 'lr_sched_patience': 10}\n",
      "Train: 892 batches, 5708800 chars\n",
      "Test:   99 batches,  633600 chars\n"
     ]
    }
   ],
   "source": [
    "from hw3.answers import part1_rnn_hyperparams\n",
    "\n",
    "hp = part1_rnn_hyperparams()\n",
    "print('hyperparams:\\n', hp)\n",
    "\n",
    "### Dataset definition\n",
    "vocab_len = len(char_to_idx)\n",
    "batch_size = hp['batch_size']\n",
    "seq_len = hp['seq_len']\n",
    "train_test_ratio = 0.9\n",
    "num_samples = (len(corpus) - 1) // seq_len\n",
    "num_train = int(train_test_ratio * num_samples)\n",
    "\n",
    "samples, labels = charnn.chars_to_labelled_samples(corpus, char_to_idx, seq_len, device)\n",
    "\n",
    "ds_train = torch.utils.data.TensorDataset(samples[:num_train], labels[:num_train])\n",
    "sampler_train = SequenceBatchSampler(ds_train, batch_size)\n",
    "dl_train = torch.utils.data.DataLoader(ds_train, batch_size, shuffle=False, sampler=sampler_train, drop_last=True)\n",
    "\n",
    "ds_test = torch.utils.data.TensorDataset(samples[num_train:], labels[num_train:])\n",
    "sampler_test = SequenceBatchSampler(ds_test, batch_size)\n",
    "dl_test = torch.utils.data.DataLoader(ds_test, batch_size, shuffle=False, sampler=sampler_test, drop_last=True)\n",
    "\n",
    "print(f'Train: {len(dl_train):3d} batches, {len(dl_train)*batch_size*seq_len:7d} chars')\n",
    "print(f'Test:  {len(dl_test):3d} batches, {len(dl_test)*batch_size*seq_len:7d} chars')\n",
    "\n",
    "### Training definition\n",
    "in_dim = out_dim = vocab_len\n",
    "checkpoint_file = 'checkpoints/rnn'\n",
    "num_epochs = 200\n",
    "early_stopping = 10\n",
    "\n",
    "model = charnn.MultilayerGRU(in_dim, hp['h_dim'], out_dim, hp['n_layers'], hp['dropout'])\n",
    "loss_fn = nn.CrossEntropyLoss()\n",
    "optimizer = optim.Adam(model.parameters(), lr=hp['learn_rate'])\n",
    "scheduler = optim.lr_scheduler.ReduceLROnPlateau(\n",
    "    optimizer, mode='max', factor=hp['lr_sched_factor'], patience=hp['lr_sched_patience'], verbose=True\n",
    ")\n",
    "trainer = RNNTrainer(model, loss_fn, optimizer, device)"
   ]
  },
  {
   "cell_type": "markdown",
   "metadata": {},
   "source": [
    "The code blocks below will train the model and save checkpoints containing the training state and the best model parameters to a file. This allows you to stop training and resume it later from where you left.\n",
    "\n",
    "Note that you can use the `main.py` script provided within the assignment folder to run this notebook from the command line as if it were a python script by using the `run-nb` subcommand. This allows you to train your model using this notebook without starting jupyter. You can combine this with `srun` or `sbatch` to run the notebook with a GPU on the course servers."
   ]
  },
  {
   "cell_type": "code",
   "execution_count": 22,
   "metadata": {},
   "outputs": [
    {
     "name": "stdout",
     "output_type": "stream",
     "text": [
      "\n",
      "Layer : 0\n",
      "\tType : W_xz, size = torch.Size([78, 256]), device = cuda:0\n",
      "\tType : W_xr, size = torch.Size([78, 256]), device = cuda:0\n",
      "\tType : W_xg, size = torch.Size([78, 256]), device = cuda:0\n",
      "\tType : W_hz, size = torch.Size([256, 256]), device = cuda:0\n",
      "\tType : W_hr, size = torch.Size([256, 256]), device = cuda:0\n",
      "\tType : W_hg, size = torch.Size([256, 256]), device = cuda:0\n",
      "\tType : b_z, size = torch.Size([256]), device = cuda:0\n",
      "\tType : b_r, size = torch.Size([256]), device = cuda:0\n",
      "\tType : b_g, size = torch.Size([256]), device = cuda:0\n",
      "Layer : 1\n",
      "\tType : W_xz, size = torch.Size([256, 256]), device = cuda:0\n",
      "\tType : W_xr, size = torch.Size([256, 256]), device = cuda:0\n",
      "\tType : W_xg, size = torch.Size([256, 256]), device = cuda:0\n",
      "\tType : W_hz, size = torch.Size([256, 256]), device = cuda:0\n",
      "\tType : W_hr, size = torch.Size([256, 256]), device = cuda:0\n",
      "\tType : W_hg, size = torch.Size([256, 256]), device = cuda:0\n",
      "\tType : b_z, size = torch.Size([256]), device = cuda:0\n",
      "\tType : b_r, size = torch.Size([256]), device = cuda:0\n",
      "\tType : b_g, size = torch.Size([256]), device = cuda:0\n",
      "Layer : 2\n",
      "\tType : W_xz, size = torch.Size([256, 256]), device = cuda:0\n",
      "\tType : W_xr, size = torch.Size([256, 256]), device = cuda:0\n",
      "\tType : W_xg, size = torch.Size([256, 256]), device = cuda:0\n",
      "\tType : W_hz, size = torch.Size([256, 256]), device = cuda:0\n",
      "\tType : W_hr, size = torch.Size([256, 256]), device = cuda:0\n",
      "\tType : W_hg, size = torch.Size([256, 256]), device = cuda:0\n",
      "\tType : b_z, size = torch.Size([256]), device = cuda:0\n",
      "\tType : b_r, size = torch.Size([256]), device = cuda:0\n",
      "\tType : b_g, size = torch.Size([256]), device = cuda:0\n",
      "Layer : 3\n",
      "\tType : W_hy, size = torch.Size([256, 78]), device = cuda:0\n",
      "\tType : b_y, size = torch.Size([78]), device = cuda:0\n",
      "Layer : 4\n",
      "\tType : Dropout\n"
     ]
    }
   ],
   "source": [
    "print(model)"
   ]
  },
  {
   "cell_type": "markdown",
   "metadata": {},
   "source": [
    "**TODO**:\n",
    "- Implement the `fit()` method of the `Trainer` class. You can reuse the relevant implementation parts from HW2, but make sure to implement early stopping and checkpoints.\n",
    "- Implement the `test_epoch()` and `test_batch()` methods of the `RNNTrainer` class in the `hw3/training.py` module.\n",
    "- Run the following block to train.\n",
    "- When training is done and you're satisfied with the model's outputs, rename the checkpoint file to `checkpoints/rnn_final.pt`.\n",
    "  This will cause the block to skip training and instead load your saved model when running the homework submission script.\n",
    "  Note that your submission zip file will not include the checkpoint file. This is OK."
   ]
  },
  {
   "cell_type": "code",
   "execution_count": 45,
   "metadata": {},
   "outputs": [
    {
     "name": "stdout",
     "output_type": "stream",
     "text": [
      "./checkpoints/rnn_final.pt\n",
      "True\n",
      "/home/sakasova/git_homeworks/hw3/solution_alex\n"
     ]
    }
   ],
   "source": [
    "checkpoint_file_final = f'./{checkpoint_file}_final.pt'\n",
    "print(checkpoint_file_final)\n",
    "print(os.path.isfile(checkpoint_file_final))\n",
    "print(os.getcwd())"
   ]
  },
  {
   "cell_type": "code",
   "execution_count": 23,
   "metadata": {},
   "outputs": [
    {
     "name": "stdout",
     "output_type": "stream",
     "text": [
      "ACT I.iANCnhDT79SUMGisE ?xm.8p2Z'WR1T4Ir7;KCcEyjMQDt;c.us9ksPBCMPw'7eh&L.)!H.FJgCWE?7:a8B,JZGDD(buqe\n",
      "--- EPOCH 1/200 ---\n",
      "train_batch (Avg. Loss 3.185, Accuracy 23.1): 100%|██████████| 892/892 [01:40<00:00,  8.92it/s]\n",
      "test_batch (Avg. Loss 3.386, Accuracy 15.3): 100%|██████████| 99/99 [00:03<00:00, 28.02it/s]\n",
      "ACT I. o                    m           r t   e ua  a  tts      a  o     t\n",
      "i  o t  o    u           \n",
      "--- EPOCH 2/200 ---\n",
      "train_batch (Avg. Loss 3.174, Accuracy 23.2): 100%|██████████| 892/892 [01:39<00:00,  8.93it/s]\n",
      "test_batch (Avg. Loss 3.384, Accuracy 15.3): 100%|██████████| 99/99 [00:03<00:00, 27.94it/s]\n",
      "ACT I.         h t    t  eoa   l  e n       e ae oosn   r a n e    aau  e      e ns         ae t    \n",
      "--- EPOCH 3/200 ---\n",
      "train_batch (Avg. Loss 3.174, Accuracy 23.2): 100%|██████████| 892/892 [01:40<00:00,  8.92it/s]\n",
      "test_batch (Avg. Loss 3.380, Accuracy 15.3): 100%|██████████| 99/99 [00:03<00:00, 27.96it/s]\n",
      "ACT I. des         e  o i    otn       e          n m    r         eecl   e                    e   p\n",
      "--- EPOCH 4/200 ---\n",
      "train_batch (Avg. Loss 3.174, Accuracy 23.2): 100%|██████████| 892/892 [01:39<00:00,  8.94it/s]\n",
      "test_batch (Avg. Loss 3.379, Accuracy 15.2): 100%|██████████| 99/99 [00:03<00:00, 27.94it/s]\n",
      "ACT I.a s  r  e  o l     te     .t e   oi  e     \n",
      "h         ie d     o     detmer   at    l  u     f\n",
      "--- EPOCH 5/200 ---\n",
      "train_batch (Avg. Loss 3.174, Accuracy 23.2): 100%|██████████| 892/892 [01:39<00:00,  8.93it/s]\n",
      "test_batch (Avg. Loss 3.375, Accuracy 15.2): 100%|██████████| 99/99 [00:03<00:00, 28.11it/s]\n",
      "ACT I.   ne e  ro     e             e  h     oho               b    o  r              m  t          \n",
      "--- EPOCH 6/200 ---\n",
      "train_batch (Avg. Loss 3.174, Accuracy 23.2): 100%|██████████| 892/892 [01:39<00:00,  8.93it/s]\n",
      "test_batch (Avg. Loss 3.372, Accuracy 15.2): 100%|██████████| 99/99 [00:03<00:00, 27.98it/s]\n",
      "ACT I.       u  n  eth     t        n  ta  ie  \n",
      "  et     te  ye            te    r  e   n       t   \n",
      "--- EPOCH 7/200 ---\n",
      "train_batch (Avg. Loss 3.174, Accuracy 23.2): 100%|██████████| 892/892 [01:39<00:00,  8.94it/s]\n",
      "test_batch (Avg. Loss 3.369, Accuracy 15.2): 100%|██████████| 99/99 [00:03<00:00, 27.97it/s]\n",
      "ACT I.    dr l    a   l  h o\n",
      "    e u       oede      T    o      e  p      h     o     r n  m   l   \n",
      "--- EPOCH 8/200 ---\n",
      "train_batch (Avg. Loss 3.174, Accuracy 23.2): 100%|██████████| 892/892 [01:41<00:00,  8.81it/s]\n",
      "test_batch (Avg. Loss 3.366, Accuracy 15.2): 100%|██████████| 99/99 [00:03<00:00, 28.00it/s]\n",
      "ACT I.    oh e  o  n  en       e  can t  moo      h n               e   e e          \n",
      " s   t     e  \n",
      "--- EPOCH 9/200 ---\n",
      "train_batch (Avg. Loss 3.174, Accuracy 23.2): 100%|██████████| 892/892 [01:39<00:00,  8.94it/s]\n",
      "test_batch (Avg. Loss 3.365, Accuracy 15.3): 100%|██████████| 99/99 [00:03<00:00, 27.99it/s]\n",
      "ACT I.sn           ed     d el   s sh    o           o        e  r    n   tt l  od o  e t     oo in \n",
      "--- EPOCH 10/200 ---\n",
      "train_batch (Avg. Loss 3.174, Accuracy 23.2): 100%|██████████| 892/892 [01:39<00:00,  8.94it/s]\n",
      "test_batch (Avg. Loss 3.365, Accuracy 15.3): 100%|██████████| 99/99 [00:03<00:00, 28.02it/s]\n",
      "ACT I.   e o  s  o      n  \n",
      " or   r h    l             ee    eee t   oe r     o     n    t a pte    \n",
      "--- EPOCH 11/200 ---\n",
      "train_batch (Avg. Loss 3.174, Accuracy 23.2): 100%|██████████| 892/892 [01:41<00:00,  8.77it/s]\n",
      "test_batch (Avg. Loss 3.365, Accuracy 15.3): 100%|██████████| 99/99 [00:03<00:00, 28.00it/s]\n",
      "ACT I. s     b i tl  .    h te rr           a    e       d       a  e    o  d  o  a   er r   e   s  \n",
      "--- EPOCH 12/200 ---\n",
      "train_batch (Avg. Loss 3.174, Accuracy 23.2): 100%|██████████| 892/892 [01:39<00:00,  8.93it/s]\n",
      "test_batch (Avg. Loss 3.366, Accuracy 15.2): 100%|██████████| 99/99 [00:03<00:00, 28.02it/s]\n",
      "Epoch    12: reducing learning rate of group 0 to 8.0000e-04.\n",
      "ACT I.e   ene  t e  t    hh     r   ra y   a \n",
      " y en t  se t  ar aee  e        o n     e t    e  t   \n",
      "--- EPOCH 13/200 ---\n",
      "train_batch (Avg. Loss 2.029, Accuracy 43.2): 100%|██████████| 892/892 [01:41<00:00,  8.82it/s]\n",
      "test_batch (Avg. Loss 1.979, Accuracy 43.5): 100%|██████████| 99/99 [00:03<00:00, 27.85it/s]\n",
      "ACT I.\n",
      "                                                                                             \n",
      "--- EPOCH 14/200 ---\n",
      "train_batch (Avg. Loss 1.769, Accuracy 49.1): 100%|██████████| 892/892 [01:42<00:00,  8.70it/s]\n",
      "test_batch (Avg. Loss 1.989, Accuracy 42.9): 100%|██████████| 99/99 [00:03<00:00, 26.67it/s]\n",
      "ACT I.\n",
      "    I warry the worldes of where in the oppery, make them ender to me come be the like the pl\n",
      "--- EPOCH 15/200 ---\n",
      "train_batch (Avg. Loss 1.634, Accuracy 51.8): 100%|██████████| 892/892 [01:44<00:00,  8.52it/s]\n",
      "test_batch (Avg. Loss 1.924, Accuracy 44.4): 100%|██████████| 99/99 [00:03<00:00, 27.15it/s]\n",
      "ACT I.\n",
      "  GENTER. The man with the soul that all I will let our he with her that strong and all one m\n",
      "--- EPOCH 16/200 ---\n",
      "train_batch (Avg. Loss 1.587, Accuracy 53.0): 100%|██████████| 892/892 [01:49<00:00,  8.12it/s]\n",
      "test_batch (Avg. Loss 1.885, Accuracy 45.4): 100%|██████████| 99/99 [00:03<00:00, 25.00it/s]\n",
      "ACT I.\n",
      "    I am the common the but the figntest of him.\n",
      "    And say the litter present their king.\n",
      " \n",
      "--- EPOCH 17/200 ---\n",
      "train_batch (Avg. Loss 1.553, Accuracy 53.8): 100%|██████████| 892/892 [01:46<00:00,  8.37it/s]\n",
      "test_batch (Avg. Loss 1.854, Accuracy 46.2): 100%|██████████| 99/99 [00:03<00:00, 28.06it/s]\n",
      "ACT I. I will the world and the this death\n",
      "    singer the soul made\n",
      "    As all the sorrow that you f\n",
      "--- EPOCH 18/200 ---\n",
      "train_batch (Avg. Loss 1.522, Accuracy 54.6): 100%|██████████| 892/892 [01:40<00:00,  8.90it/s]\n",
      "test_batch (Avg. Loss 1.823, Accuracy 46.9): 100%|██████████| 99/99 [00:03<00:00, 27.83it/s]\n",
      "ACT I. I says if the gods of the sees to straighter is of the father make the words, and when was my\n",
      "--- EPOCH 19/200 ---\n",
      "train_batch (Avg. Loss 1.495, Accuracy 55.3): 100%|██████████| 892/892 [01:39<00:00,  8.92it/s]\n",
      "test_batch (Avg. Loss 1.799, Accuracy 47.6): 100%|██████████| 99/99 [00:03<00:00, 28.07it/s]\n",
      "ACT I.\n",
      "    I will not the lead,\n",
      "    For my hand.\n",
      "  PRINCE. What's me to the more to the beard for yo\n",
      "--- EPOCH 20/200 ---\n",
      "train_batch (Avg. Loss 1.471, Accuracy 55.9): 100%|██████████| 892/892 [01:40<00:00,  8.84it/s]\n",
      "test_batch (Avg. Loss 1.779, Accuracy 48.1): 100%|██████████| 99/99 [00:03<00:00, 27.93it/s]\n",
      "ACT I.\n",
      "ACT I. SCENE III:\n",
      "She both you you can hath dantle comes the horrow of his every contents to \n",
      "--- EPOCH 21/200 ---\n",
      "train_batch (Avg. Loss 1.449, Accuracy 56.4): 100%|██████████| 892/892 [01:39<00:00,  8.93it/s]\n",
      "test_batch (Avg. Loss 1.753, Accuracy 48.7): 100%|██████████| 99/99 [00:03<00:00, 28.07it/s]\n",
      "ACT I. SCENE 3.\n",
      "My POLIXENES.                                                         Enter Duke of \n",
      "--- EPOCH 22/200 ---\n",
      "train_batch (Avg. Loss 1.430, Accuracy 56.9): 100%|██████████| 892/892 [01:40<00:00,  8.85it/s]\n",
      "test_batch (Avg. Loss 1.734, Accuracy 49.2): 100%|██████████| 99/99 [00:03<00:00, 28.00it/s]\n",
      "ACT I.\n",
      "And to see these own heart the walls of with the countent that may and so sure,\n",
      "    And when \n",
      "--- EPOCH 23/200 ---\n",
      "train_batch (Avg. Loss 1.411, Accuracy 57.4): 100%|██████████| 892/892 [01:40<00:00,  8.92it/s]\n",
      "test_batch (Avg. Loss 1.717, Accuracy 49.7): 100%|██████████| 99/99 [00:03<00:00, 28.07it/s]\n",
      "ACT I. SCENE I.\n",
      "  MARGICE. Not this least again the hands, which wit the water of the sure, I think \n",
      "--- EPOCH 24/200 ---\n",
      "train_batch (Avg. Loss 1.398, Accuracy 57.7): 100%|██████████| 892/892 [01:40<00:00,  8.85it/s]\n",
      "test_batch (Avg. Loss 1.701, Accuracy 50.1): 100%|██████████| 99/99 [00:03<00:00, 28.06it/s]\n",
      "ACT I.                                                                                              \n",
      "--- EPOCH 25/200 ---\n",
      "train_batch (Avg. Loss 1.381, Accuracy 58.1): 100%|██████████| 892/892 [01:40<00:00,  8.86it/s]\n",
      "test_batch (Avg. Loss 1.687, Accuracy 50.5): 100%|██████████| 99/99 [00:03<00:00, 27.94it/s]\n",
      "ACT I.\n",
      "    He had not this my counsel to his souls, nor in this people\n",
      "    That speak him that she w\n",
      "--- EPOCH 26/200 ---\n",
      "train_batch (Avg. Loss 1.368, Accuracy 58.5): 100%|██████████| 892/892 [01:39<00:00,  8.94it/s]\n",
      "test_batch (Avg. Loss 1.669, Accuracy 50.8): 100%|██████████| 99/99 [00:03<00:00, 27.99it/s]\n",
      "ACT I. The Italisbrand and my head of the bed.\n",
      "    But let him the whild the world.\n",
      "    Which are th\n",
      "--- EPOCH 27/200 ---\n",
      "train_batch (Avg. Loss 1.356, Accuracy 58.7): 100%|██████████| 892/892 [01:39<00:00,  8.93it/s]\n",
      "test_batch (Avg. Loss 1.663, Accuracy 51.1): 100%|██████████| 99/99 [00:03<00:00, 28.02it/s]\n",
      "ACT I.                                                                               EnEEGKGKINUS. I\n",
      "--- EPOCH 28/200 ---\n",
      "train_batch (Avg. Loss 1.347, Accuracy 59.0): 100%|██████████| 892/892 [01:39<00:00,  8.95it/s]\n",
      "test_batch (Avg. Loss 1.650, Accuracy 51.4): 100%|██████████| 99/99 [00:03<00:00, 27.90it/s]\n",
      "ACT I.\n",
      "A could stand us adore what she shall be brows my father, is but thy sings to comes my body i\n",
      "--- EPOCH 29/200 ---\n",
      "train_batch (Avg. Loss 1.338, Accuracy 59.2): 100%|██████████| 892/892 [01:39<00:00,  8.92it/s]\n",
      "test_batch (Avg. Loss 1.647, Accuracy 51.5): 100%|██████████| 99/99 [00:03<00:00, 28.03it/s]\n",
      "ACT I.\n",
      "A boys down to speaks the charge to the hours of her in parts of the lives of men, and thou a\n",
      "--- EPOCH 30/200 ---\n",
      "train_batch (Avg. Loss 1.330, Accuracy 59.4): 100%|██████████| 892/892 [01:39<00:00,  8.93it/s]\n",
      "test_batch (Avg. Loss 1.634, Accuracy 51.8): 100%|██████████| 99/99 [00:03<00:00, 28.10it/s]\n",
      "ACT I. SCENE 1.\n",
      "A LORDS and Romeon of the start many will been such than her weary\n",
      "    In the world \n",
      "--- EPOCH 31/200 ---\n",
      "train_batch (Avg. Loss 1.323, Accuracy 59.5): 100%|██████████| 892/892 [01:39<00:00,  8.94it/s]\n",
      "test_batch (Avg. Loss 1.628, Accuracy 52.0): 100%|██████████| 99/99 [00:03<00:00, 28.04it/s]\n",
      "ACT I. SCENE I.\n",
      "Since is the Aufidius shall tell me said, for what are the pearly shame.\n",
      "    So plea\n",
      "--- EPOCH 32/200 ---\n",
      "train_batch (Avg. Loss 1.317, Accuracy 59.7): 100%|██████████| 892/892 [01:39<00:00,  8.93it/s]\n",
      "test_batch (Avg. Loss 1.625, Accuracy 52.1): 100%|██████████| 99/99 [00:03<00:00, 28.06it/s]\n",
      "ACT I. SCENE 1.\n",
      "Scene II.\n",
      "A heavens are best bed.\n",
      "                                                  \n",
      "--- EPOCH 33/200 ---\n",
      "train_batch (Avg. Loss 1.310, Accuracy 59.9): 100%|██████████| 892/892 [01:39<00:00,  8.94it/s]\n",
      "test_batch (Avg. Loss 1.634, Accuracy 52.3): 100%|██████████| 99/99 [00:03<00:00, 28.06it/s]\n",
      "ACT I. SCENE I.\n",
      "Another thou shalt still me thy charity.\n",
      "                                           \n",
      "--- EPOCH 34/200 ---\n",
      "train_batch (Avg. Loss 1.305, Accuracy 60.0): 100%|██████████| 892/892 [01:39<00:00,  8.94it/s]\n",
      "test_batch (Avg. Loss 1.614, Accuracy 52.3): 100%|██████████| 99/99 [00:03<00:00, 27.97it/s]\n",
      "ACT I. I know the axe the King, and the bars of the earth,\n",
      "    When I have as answer of the purse of\n",
      "--- EPOCH 35/200 ---\n",
      "train_batch (Avg. Loss 1.300, Accuracy 60.1): 100%|██████████| 892/892 [01:40<00:00,  8.92it/s]\n",
      "test_batch (Avg. Loss 1.605, Accuracy 52.5): 100%|██████████| 99/99 [00:03<00:00, 28.01it/s]\n",
      "ACT I.\n",
      "                                                                                             \n",
      "--- EPOCH 36/200 ---\n",
      "train_batch (Avg. Loss 1.296, Accuracy 60.2): 100%|██████████| 892/892 [01:40<00:00,  8.91it/s]\n",
      "test_batch (Avg. Loss 1.606, Accuracy 52.6): 100%|██████████| 99/99 [00:03<00:00, 27.96it/s]\n",
      "ACT I. SCENE 1.\n",
      "\n",
      "  LENNOX. Ay, as I will not admity.\n",
      "    I will not go to see the arms.\n",
      "\n",
      "           \n",
      "--- EPOCH 37/200 ---\n",
      "train_batch (Avg. Loss 1.293, Accuracy 60.3): 100%|██████████| 892/892 [01:39<00:00,  8.94it/s]\n",
      "test_batch (Avg. Loss 1.602, Accuracy 52.7): 100%|██████████| 99/99 [00:03<00:00, 27.97it/s]\n",
      "ACT I. SCENE I.\n",
      "London. I will be so farewell.\n",
      "    What thou made the conscience is the commons,\n",
      "   \n",
      "--- EPOCH 38/200 ---\n",
      "train_batch (Avg. Loss 1.291, Accuracy 60.3): 100%|██████████| 892/892 [01:39<00:00,  8.94it/s]\n",
      "test_batch (Avg. Loss 1.604, Accuracy 52.7): 100%|██████████| 99/99 [00:03<00:00, 27.93it/s]\n",
      "ACT I. SCENE VINCENTIO, and SIR HUGH LAFEU, the death with him and bid me the honour are\n",
      "           \n",
      "--- EPOCH 39/200 ---\n",
      "train_batch (Avg. Loss 1.287, Accuracy 60.4): 100%|██████████| 892/892 [01:39<00:00,  8.96it/s]\n",
      "test_batch (Avg. Loss 1.599, Accuracy 52.8): 100%|██████████| 99/99 [00:03<00:00, 27.97it/s]\n",
      "ACT I. SCENE 3.\n",
      "\n",
      "Madam, and the poor courtesy shall see your breath as I have a suffer of your servi\n",
      "--- EPOCH 40/200 ---\n",
      "train_batch (Avg. Loss 1.282, Accuracy 60.5): 100%|██████████| 892/892 [01:39<00:00,  8.94it/s]\n",
      "test_batch (Avg. Loss 1.592, Accuracy 52.9): 100%|██████████| 99/99 [00:03<00:00, 28.00it/s]\n",
      "ACT I. SCENE I.\n",
      "Romeo hold the day before the shapes be gone.\n",
      "    The country beasts to the peace an\n",
      "--- EPOCH 41/200 ---\n",
      "train_batch (Avg. Loss 1.279, Accuracy 60.6): 100%|██████████| 892/892 [01:39<00:00,  8.93it/s]\n",
      "test_batch (Avg. Loss 1.590, Accuracy 52.9): 100%|██████████| 99/99 [00:03<00:00, 28.01it/s]\n",
      "ACT I. SCENE 1.\n",
      "\n",
      "  ARMADO. Peace, he shall be shall seems you.\n",
      "    I will tell me to put me that she\n",
      "--- EPOCH 42/200 ---\n",
      "train_batch (Avg. Loss 1.278, Accuracy 60.6): 100%|██████████| 892/892 [01:39<00:00,  8.95it/s]\n",
      "test_batch (Avg. Loss 1.595, Accuracy 52.8): 100%|██████████| 99/99 [00:03<00:00, 28.05it/s]\n",
      "ACT I. So with me and so shall be so much a show the season that I have done.\n",
      "    I am not receiv'd \n",
      "--- EPOCH 43/200 ---\n",
      "train_batch (Avg. Loss 1.276, Accuracy 60.7): 100%|██████████| 892/892 [01:39<00:00,  8.94it/s]\n",
      "test_batch (Avg. Loss 1.590, Accuracy 53.0): 100%|██████████| 99/99 [00:03<00:00, 28.01it/s]\n",
      "ACT I.\n",
      "MITHor Protector, and the body are more comes of stone,\n",
      "    And made the company between the \n",
      "--- EPOCH 44/200 ---\n",
      "train_batch (Avg. Loss 1.273, Accuracy 60.8): 100%|██████████| 892/892 [01:39<00:00,  8.94it/s]\n",
      "test_batch (Avg. Loss 1.584, Accuracy 53.1): 100%|██████████| 99/99 [00:03<00:00, 28.03it/s]\n",
      "ACT I. SCENE 4.\n",
      "\n",
      "                                                             Exit.\n",
      "\n",
      "SCENE III. SCEN\n",
      "--- EPOCH 45/200 ---\n",
      "train_batch (Avg. Loss 1.270, Accuracy 60.8): 100%|██████████| 892/892 [01:39<00:00,  8.93it/s]\n",
      "test_batch (Avg. Loss 1.582, Accuracy 53.1): 100%|██████████| 99/99 [00:03<00:00, 27.97it/s]\n",
      "ACT I.\n",
      "                                        Exeunt\n",
      "\n",
      "SCENE V.\n",
      "And and a witness back and shall be \n",
      "--- EPOCH 46/200 ---\n",
      "train_batch (Avg. Loss 1.270, Accuracy 60.9): 100%|██████████| 892/892 [01:39<00:00,  8.93it/s]\n",
      "test_batch (Avg. Loss 1.583, Accuracy 53.1): 100%|██████████| 99/99 [00:03<00:00, 27.96it/s]\n",
      "ACT I. SCENE 1.\n",
      "  FIRST GUARD. And they have as a court as the sea of the common words\n",
      "    That may \n",
      "--- EPOCH 47/200 ---\n",
      "train_batch (Avg. Loss 1.266, Accuracy 60.9): 100%|██████████| 892/892 [01:39<00:00,  8.94it/s]\n",
      "test_batch (Avg. Loss 1.577, Accuracy 53.2): 100%|██████████| 99/99 [00:03<00:00, 27.97it/s]\n",
      "ACT I. SCENE I.\n",
      "The days for the world,\n",
      "    Who may stay my cousin;\n",
      "    There is the poor master of \n",
      "--- EPOCH 48/200 ---\n",
      "train_batch (Avg. Loss 1.264, Accuracy 61.0): 100%|██████████| 892/892 [01:50<00:00,  8.09it/s]\n",
      "test_batch (Avg. Loss 1.582, Accuracy 53.2): 100%|██████████| 99/99 [00:04<00:00, 22.12it/s]\n",
      "ACT I. Shall die at her seeming such affects\n",
      "    Than so much more in the song from him;\n",
      "    And he \n",
      "--- EPOCH 49/200 ---\n",
      "train_batch (Avg. Loss 1.262, Accuracy 61.0): 100%|██████████| 892/892 [01:44<00:00,  8.52it/s]\n",
      "test_batch (Avg. Loss 1.578, Accuracy 53.3): 100%|██████████| 99/99 [00:03<00:00, 25.40it/s]\n",
      "ACT I.\n",
      "And there is the safety of this day with him; and I am more of my name.\n",
      "    The confession of\n",
      "--- EPOCH 50/200 ---\n",
      "train_batch (Avg. Loss 1.261, Accuracy 61.1): 100%|██████████| 892/892 [01:52<00:00,  7.93it/s]\n",
      "test_batch (Avg. Loss 1.576, Accuracy 53.3): 100%|██████████| 99/99 [00:03<00:00, 25.93it/s]\n",
      "ACT I. SCENE I.\n",
      "A will make my great and leave of me,\n",
      "    The morning made this that you have power \n",
      "--- EPOCH 51/200 ---\n",
      "train_batch (Avg. Loss 1.259, Accuracy 61.1): 100%|██████████| 892/892 [01:41<00:00,  8.81it/s]\n",
      "test_batch (Avg. Loss 1.576, Accuracy 53.3): 100%|██████████| 99/99 [00:03<00:00, 28.00it/s]\n",
      "ACT I.\n",
      "The KING, OFFICER, CLIFFORD, with a better be a man with me, and my love.\n",
      "    'Tis the deed t\n",
      "--- EPOCH 52/200 ---\n",
      "train_batch (Avg. Loss 1.257, Accuracy 61.1): 100%|██████████| 892/892 [01:39<00:00,  8.94it/s]\n",
      "test_batch (Avg. Loss 1.572, Accuracy 53.4): 100%|██████████| 99/99 [00:03<00:00, 28.04it/s]\n",
      "ACT I. SCENE I.\n",
      "Rome. There was retreets of the tempter,\n",
      "    And then the power to be a manner is of\n",
      "--- EPOCH 53/200 ---\n",
      "train_batch (Avg. Loss 1.256, Accuracy 61.2): 100%|██████████| 892/892 [01:39<00:00,  8.92it/s]\n",
      "test_batch (Avg. Loss 1.571, Accuracy 53.4): 100%|██████████| 99/99 [00:03<00:00, 28.00it/s]\n",
      "ACT I. SCENE I.\n",
      "A harm of the like a father hath not more that say you were prepare.\n",
      "    Sir, my lor\n",
      "--- EPOCH 54/200 ---\n",
      "train_batch (Avg. Loss 1.266, Accuracy 61.1): 100%|██████████| 892/892 [01:39<00:00,  8.95it/s]\n",
      "test_batch (Avg. Loss 1.573, Accuracy 53.5): 100%|██████████| 99/99 [00:03<00:00, 27.90it/s]\n",
      "ACT I. Is this sudden than the matter, and my heart of the breath.\n",
      "    The world of the consent son \n",
      "--- EPOCH 55/200 ---\n",
      "train_batch (Avg. Loss 1.255, Accuracy 61.2): 100%|██████████| 892/892 [01:40<00:00,  8.90it/s]\n",
      "test_batch (Avg. Loss 1.570, Accuracy 53.4): 100%|██████████| 99/99 [00:03<00:00, 27.98it/s]\n",
      "ACT I. SCENE I.\n",
      "Another command of my bond,\n",
      "    And so say you from me within a sing to thee.\n",
      "      \n",
      "--- EPOCH 56/200 ---\n",
      "train_batch (Avg. Loss 1.253, Accuracy 61.2): 100%|██████████| 892/892 [01:40<00:00,  8.89it/s]\n",
      "test_batch (Avg. Loss 1.569, Accuracy 53.5): 100%|██████████| 99/99 [00:03<00:00, 27.97it/s]\n",
      "ACT I.\n",
      "                                                                                             \n",
      "--- EPOCH 57/200 ---\n",
      "train_batch (Avg. Loss 1.254, Accuracy 61.2): 100%|██████████| 892/892 [01:39<00:00,  8.92it/s]\n",
      "test_batch (Avg. Loss 1.565, Accuracy 53.6): 100%|██████████| 99/99 [00:03<00:00, 27.95it/s]\n",
      "ACT I. SCENE I.\n",
      "The Corioler.                                                                       \n",
      "--- EPOCH 58/200 ---\n",
      "train_batch (Avg. Loss 1.251, Accuracy 61.3): 100%|██████████| 892/892 [01:39<00:00,  8.93it/s]\n",
      "test_batch (Avg. Loss 1.574, Accuracy 53.4): 100%|██████████| 99/99 [00:03<00:00, 27.91it/s]\n",
      "ACT I. SCENE I.\n",
      "The world too breathe thee to the marriage with the portly be as the cools,\n",
      "    And \n",
      "--- EPOCH 59/200 ---\n",
      "train_batch (Avg. Loss 1.250, Accuracy 61.3): 100%|██████████| 892/892 [01:39<00:00,  8.93it/s]\n",
      "test_batch (Avg. Loss 1.567, Accuracy 53.6): 100%|██████████| 99/99 [00:03<00:00, 27.98it/s]\n",
      "ACT I. SCENE V.\n",
      "When the gentlemen shall be sick\n",
      "    That were my love that we the sheater so so for\n",
      "--- EPOCH 60/200 ---\n",
      "train_batch (Avg. Loss 1.249, Accuracy 61.3): 100%|██████████| 892/892 [01:39<00:00,  8.93it/s]\n",
      "test_batch (Avg. Loss 1.563, Accuracy 53.6): 100%|██████████| 99/99 [00:03<00:00, 28.05it/s]\n",
      "ACT I.\n",
      "  CADE. Go, and so be any other and beard,\n",
      "    And there is not before the first of my common\n",
      "--- EPOCH 61/200 ---\n",
      "train_batch (Avg. Loss 1.248, Accuracy 61.4): 100%|██████████| 892/892 [01:40<00:00,  8.92it/s]\n",
      "test_batch (Avg. Loss 1.563, Accuracy 53.6): 100%|██████████| 99/99 [00:03<00:00, 28.03it/s]\n",
      "ACT I.\n",
      "Elsino, I could not be usurp'd to a back\n",
      "    With the hands that he was to stay\n",
      "     To whar \n",
      "--- EPOCH 62/200 ---\n",
      "train_batch (Avg. Loss 1.247, Accuracy 61.4): 100%|██████████| 892/892 [01:42<00:00,  8.73it/s]\n",
      "test_batch (Avg. Loss 1.563, Accuracy 53.6): 100%|██████████| 99/99 [00:03<00:00, 28.03it/s]\n",
      "ACT I. SCENE 2.\n",
      "Lolatus with the most soldiers of the father\n",
      "    That say you the lives, thou art we\n",
      "--- EPOCH 63/200 ---\n",
      "train_batch (Avg. Loss 1.245, Accuracy 61.4): 100%|██████████| 892/892 [01:43<00:00,  8.58it/s]\n",
      "test_batch (Avg. Loss 1.563, Accuracy 53.7): 100%|██████████| 99/99 [00:03<00:00, 27.02it/s]\n",
      "ACT I.\n",
      "The general of the course of your lords.\n",
      "    Such a foul bloody souls are the condition,\n",
      "    \n",
      "--- EPOCH 64/200 ---\n",
      "train_batch (Avg. Loss 1.244, Accuracy 61.5): 100%|██████████| 892/892 [01:42<00:00,  8.72it/s]\n",
      "test_batch (Avg. Loss 1.560, Accuracy 53.6): 100%|██████████| 99/99 [00:03<00:00, 26.83it/s]\n",
      "ACT I. SCENE 4.\n",
      "\n",
      "The King of Warwick's death.\n",
      "  PORTIA. What I did you would the man as well well.\n",
      " \n",
      "--- EPOCH 65/200 ---\n",
      "train_batch (Avg. Loss 1.245, Accuracy 61.5): 100%|██████████| 892/892 [01:42<00:00,  8.73it/s]\n",
      "test_batch (Avg. Loss 1.564, Accuracy 53.7): 100%|██████████| 99/99 [00:03<00:00, 26.67it/s]\n",
      "ACT I.\n",
      "The DUKE OF BARDOLPH\n",
      "\n",
      "  TITUS. What trade is the sealing difference.\n",
      "    Here the company of \n",
      "--- EPOCH 66/200 ---\n",
      "train_batch (Avg. Loss 1.243, Accuracy 61.5): 100%|██████████| 892/892 [01:45<00:00,  8.46it/s]\n",
      "test_batch (Avg. Loss 1.563, Accuracy 53.7): 100%|██████████| 99/99 [00:03<00:00, 27.57it/s]\n",
      "ACT I. Sir,\n",
      "    The committed and white health and the chair and stand.\n",
      "    I have the more was a li\n",
      "--- EPOCH 67/200 ---\n",
      "train_batch (Avg. Loss 1.242, Accuracy 61.5): 100%|██████████| 892/892 [01:41<00:00,  8.83it/s]\n",
      "test_batch (Avg. Loss 1.563, Accuracy 53.7): 100%|██████████| 99/99 [00:03<00:00, 27.35it/s]\n",
      "ACT I.\n",
      "  MENENIUS. And I should have me stand on your ladyship, my lord,\n",
      "    And bear thee much to s\n",
      "--- EPOCH 68/200 ---\n",
      "train_batch (Avg. Loss 1.244, Accuracy 61.4): 100%|██████████| 892/892 [01:44<00:00,  8.53it/s]\n",
      "test_batch (Avg. Loss 1.560, Accuracy 53.6): 100%|██████████| 99/99 [00:03<00:00, 28.10it/s]\n",
      "ACT I.\n",
      "Another, the street of the sun of your hand, and such a second Lord of Pardon, admite the dev\n",
      "--- EPOCH 69/200 ---\n",
      "train_batch (Avg. Loss 1.242, Accuracy 61.5): 100%|██████████| 892/892 [01:40<00:00,  8.91it/s]\n",
      "test_batch (Avg. Loss 1.562, Accuracy 53.6): 100%|██████████| 99/99 [00:03<00:00, 28.03it/s]\n",
      "ACT I. SCENE I.\n",
      "Alarums.\n",
      "\n",
      "SCENE IV.\n",
      "  SECOND LORD. What hast thou the act to see the bedies,\n",
      "    He \n",
      "--- EPOCH 70/200 ---\n",
      "train_batch (Avg. Loss 1.241, Accuracy 61.5): 100%|██████████| 892/892 [01:39<00:00,  8.92it/s]\n",
      "test_batch (Avg. Loss 1.562, Accuracy 53.6): 100%|██████████| 99/99 [00:03<00:00, 27.89it/s]\n",
      "ACT I.\n",
      "                                                                                             \n",
      "--- EPOCH 71/200 ---\n",
      "train_batch (Avg. Loss 1.240, Accuracy 61.6): 100%|██████████| 892/892 [01:45<00:00,  8.48it/s]\n",
      "test_batch (Avg. Loss 1.555, Accuracy 53.8): 100%|██████████| 99/99 [00:03<00:00, 26.48it/s]\n",
      "ACT I.\n",
      "  PAGE. He good time to the foreheaded composition.\n",
      "    You will not be all that the cater\n",
      "  \n",
      "--- EPOCH 72/200 ---\n",
      "train_batch (Avg. Loss 1.240, Accuracy 61.6): 100%|██████████| 892/892 [01:40<00:00,  8.85it/s]\n",
      "test_batch (Avg. Loss 1.558, Accuracy 53.8): 100%|██████████| 99/99 [00:03<00:00, 27.73it/s]\n",
      "ACT I. SCENE 1.\n",
      "The PROTEUS, and the Duke of Caesar Ford, that to be here.\n",
      "                         \n",
      "--- EPOCH 73/200 ---\n",
      "train_batch (Avg. Loss 1.238, Accuracy 61.6): 100%|██████████| 892/892 [01:41<00:00,  8.79it/s]\n",
      "test_batch (Avg. Loss 1.557, Accuracy 53.8): 100%|██████████| 99/99 [00:03<00:00, 27.97it/s]\n",
      "ACT I.\n",
      "    And you my lord,  \n",
      "    Thou mayst be my commontage, and to cry your hands\n",
      "    That the wi\n",
      "--- EPOCH 74/200 ---\n",
      "train_batch (Avg. Loss 1.237, Accuracy 61.6): 100%|██████████| 892/892 [01:41<00:00,  8.83it/s]\n",
      "test_batch (Avg. Loss 1.557, Accuracy 53.7): 100%|██████████| 99/99 [00:03<00:00, 28.08it/s]\n",
      "ACT I.\n",
      "\n",
      "                                                                                     Exeunt \n",
      "--- EPOCH 75/200 ---\n",
      "train_batch (Avg. Loss 1.237, Accuracy 61.6): 100%|██████████| 892/892 [01:42<00:00,  8.67it/s]\n",
      "test_batch (Avg. Loss 1.556, Accuracy 53.8): 100%|██████████| 99/99 [00:03<00:00, 26.86it/s]\n",
      "ACT I.\n",
      "Milan and Macbeth, produced and me with me.\n",
      "    There is in your heart is well all that fear \n",
      "--- EPOCH 76/200 ---\n",
      "train_batch (Avg. Loss 1.237, Accuracy 61.6): 100%|██████████| 892/892 [01:41<00:00,  8.82it/s]\n",
      "test_batch (Avg. Loss 1.557, Accuracy 53.8): 100%|██████████| 99/99 [00:03<00:00, 28.00it/s]\n",
      "ACT I. I know the lady.  \n",
      "                                                                          \n",
      "--- EPOCH 77/200 ---\n",
      "train_batch (Avg. Loss 1.236, Accuracy 61.6): 100%|██████████| 892/892 [01:39<00:00,  8.93it/s]\n",
      "test_batch (Avg. Loss 1.554, Accuracy 53.9): 100%|██████████| 99/99 [00:03<00:00, 28.00it/s]\n",
      "ACT I.\n",
      "A seat of his soul content to me. I shall not be one,\n",
      "    I have not been a servants in the g\n",
      "--- EPOCH 78/200 ---\n",
      "train_batch (Avg. Loss 1.237, Accuracy 61.6): 100%|██████████| 892/892 [01:39<00:00,  8.93it/s]\n",
      "test_batch (Avg. Loss 1.554, Accuracy 53.8): 100%|██████████| 99/99 [00:03<00:00, 27.71it/s]\n",
      "ACT I. SCENE I.\n",
      "A palate and my heart be come\n",
      "    To come as you shall not love me about the boardin\n",
      "--- EPOCH 79/200 ---\n",
      "train_batch (Avg. Loss 1.234, Accuracy 61.7): 100%|██████████| 892/892 [01:40<00:00,  8.87it/s]\n",
      "test_batch (Avg. Loss 1.555, Accuracy 53.8): 100%|██████████| 99/99 [00:03<00:00, 27.97it/s]\n",
      "ACT I.\n",
      "Before the one that so much a terms.\n",
      "                                                        \n",
      "--- EPOCH 80/200 ---\n",
      "train_batch (Avg. Loss 1.234, Accuracy 61.7): 100%|██████████| 892/892 [01:39<00:00,  8.93it/s]\n",
      "test_batch (Avg. Loss 1.555, Accuracy 53.8): 100%|██████████| 99/99 [00:03<00:00, 27.95it/s]\n",
      "ACT I. SCENE I.\n",
      "Rome. I will account the reputeous courtest man,\n",
      "    I came thee now? Though I will \n",
      "--- EPOCH 81/200 ---\n",
      "train_batch (Avg. Loss 1.244, Accuracy 61.5): 100%|██████████| 892/892 [01:41<00:00,  8.81it/s]\n",
      "test_batch (Avg. Loss 1.559, Accuracy 53.8): 100%|██████████| 99/99 [00:03<00:00, 27.74it/s]\n",
      "ACT I. SCENE 1.\n",
      "\n",
      "                                                                                   \n",
      "--- EPOCH 82/200 ---\n",
      "train_batch (Avg. Loss 1.236, Accuracy 61.7): 100%|██████████| 892/892 [01:42<00:00,  8.73it/s]\n",
      "test_batch (Avg. Loss 1.551, Accuracy 54.0): 100%|██████████| 99/99 [00:03<00:00, 27.33it/s]\n",
      "ACT I.\n",
      "                                                                                          Exi\n",
      "--- EPOCH 83/200 ---\n",
      "train_batch (Avg. Loss 1.232, Accuracy 61.7): 100%|██████████| 892/892 [01:43<00:00,  8.66it/s]\n",
      "test_batch (Avg. Loss 1.555, Accuracy 53.8): 100%|██████████| 99/99 [00:03<00:00, 28.04it/s]\n",
      "ACT I. SCENE 4.\n",
      "\n",
      "The BAPTISTA, with a measus' comes.\n",
      "    And then death. I have heard it with the st\n",
      "--- EPOCH 84/200 ---\n",
      "train_batch (Avg. Loss 1.233, Accuracy 61.7): 100%|██████████| 892/892 [01:39<00:00,  8.92it/s]\n",
      "test_batch (Avg. Loss 1.553, Accuracy 53.9): 100%|██████████| 99/99 [00:03<00:00, 27.96it/s]\n",
      "ACT I.\n",
      "                                 Exeunt all beating to Polonius.\n",
      "  GLOUCESTER. What shall you\n",
      "--- EPOCH 85/200 ---\n",
      "train_batch (Avg. Loss 1.231, Accuracy 61.8): 100%|██████████| 892/892 [01:40<00:00,  8.91it/s]\n",
      "test_batch (Avg. Loss 1.556, Accuracy 53.9): 100%|██████████| 99/99 [00:03<00:00, 27.89it/s]\n",
      "ACT I. SCENE 2.\n",
      "\n",
      "A health that men are contents at the lady.\n",
      "\n",
      "DUKE OF YORK:\n",
      "I presently remaind, tho\n",
      "--- EPOCH 86/200 ---\n",
      "train_batch (Avg. Loss 1.232, Accuracy 61.8): 100%|██████████| 892/892 [01:41<00:00,  8.76it/s]\n",
      "test_batch (Avg. Loss 1.554, Accuracy 53.8): 100%|██████████| 99/99 [00:03<00:00, 27.58it/s]\n",
      "ACT I.\n",
      "A poor a seated love to be put me with your princess in the face of the world and thy courtes\n",
      "--- EPOCH 87/200 ---\n",
      "train_batch (Avg. Loss 1.233, Accuracy 61.7): 100%|██████████| 892/892 [01:40<00:00,  8.86it/s]\n",
      "test_batch (Avg. Loss 1.550, Accuracy 54.0): 100%|██████████| 99/99 [00:03<00:00, 27.97it/s]\n",
      "ACT I. SCENE I.\n",
      "Rome. Sir, I will be the company,\n",
      "    With a bosom of the ground to my master than t\n",
      "--- EPOCH 88/200 ---\n",
      "train_batch (Avg. Loss 1.232, Accuracy 61.8): 100%|██████████| 892/892 [01:39<00:00,  8.93it/s]\n",
      "test_batch (Avg. Loss 1.552, Accuracy 53.9): 100%|██████████| 99/99 [00:03<00:00, 28.08it/s]\n",
      "ACT I. SCENE I.\n",
      "A strong fortune to the more than the most thanks of small devil of the world with t\n",
      "--- EPOCH 89/200 ---\n",
      "train_batch (Avg. Loss 1.229, Accuracy 61.8): 100%|██████████| 892/892 [01:40<00:00,  8.90it/s]\n",
      "test_batch (Avg. Loss 1.552, Accuracy 54.0): 100%|██████████| 99/99 [00:03<00:00, 28.09it/s]\n",
      "ACT I. SCENE 4.\n",
      "\n",
      "London. The gods shall be in your sea\n",
      "    That you have the story of a fallible dis\n",
      "--- EPOCH 90/200 ---\n",
      "train_batch (Avg. Loss 1.229, Accuracy 61.8): 100%|██████████| 892/892 [01:40<00:00,  8.91it/s]\n",
      "test_batch (Avg. Loss 1.549, Accuracy 53.9): 100%|██████████| 99/99 [00:03<00:00, 28.00it/s]\n",
      "ACT I. SCENE X.\n",
      "A pardon?\n",
      "  LUCIUS. I know my master, and what I have seen to the gods,\n",
      "            \n",
      "--- EPOCH 91/200 ---\n",
      "train_batch (Avg. Loss 1.228, Accuracy 61.8): 100%|██████████| 892/892 [01:39<00:00,  8.93it/s]\n",
      "test_batch (Avg. Loss 1.550, Accuracy 53.9): 100%|██████████| 99/99 [00:03<00:00, 28.00it/s]\n",
      "ACT I.\n",
      "                                         Exit\n",
      "\n",
      "SCENE IV.\n",
      "A god of that chance of his tent of \n",
      "--- EPOCH 92/200 ---\n",
      "train_batch (Avg. Loss 1.230, Accuracy 61.8): 100%|██████████| 892/892 [01:39<00:00,  8.93it/s]\n",
      "test_batch (Avg. Loss 1.551, Accuracy 53.8): 100%|██████████| 99/99 [00:03<00:00, 28.03it/s]\n",
      "ACT I.\n",
      "The law that were the act.\n",
      "    If the country's cousin the matter that can preserve thee to t\n",
      "--- EPOCH 93/200 ---\n",
      "train_batch (Avg. Loss 1.229, Accuracy 61.8): 100%|██████████| 892/892 [01:48<00:00,  8.23it/s]\n",
      "test_batch (Avg. Loss 1.550, Accuracy 53.9): 100%|██████████| 99/99 [00:03<00:00, 25.01it/s]\n",
      "ACT I. She is a prince\n",
      "    Of the better with their men is the throne\n",
      "    To meet you, sir, and the \n",
      "--- EPOCH 94/200 ---\n",
      "train_batch (Avg. Loss 1.246, Accuracy 61.8): 100%|██████████| 892/892 [01:56<00:00,  7.65it/s]\n",
      "test_batch (Avg. Loss 1.550, Accuracy 54.0): 100%|██████████| 99/99 [00:04<00:00, 24.57it/s]\n",
      "ACT I.\n",
      "\n",
      "Salisbury, and in the charge that shall have worn\n",
      "    The great death.                      \n",
      "--- EPOCH 95/200 ---\n",
      "train_batch (Avg. Loss 1.228, Accuracy 61.9): 100%|██████████| 892/892 [01:57<00:00,  7.59it/s]\n",
      "test_batch (Avg. Loss 1.552, Accuracy 54.0): 100%|██████████| 99/99 [00:05<00:00, 16.64it/s]\n",
      "ACT I. SCENE I.\n",
      "The KING HENRY THISBY\n",
      "\n",
      "  Lart. 'Tis come of war, my lord, a schools,\n",
      "    And the sha\n",
      "--- EPOCH 96/200 ---\n",
      "train_batch (Avg. Loss 1.228, Accuracy 61.8): 100%|██████████| 892/892 [02:00<00:00,  7.40it/s]\n",
      "test_batch (Avg. Loss 1.550, Accuracy 53.9): 100%|██████████| 99/99 [00:03<00:00, 24.76it/s]\n",
      "ACT I.\n",
      "The King of Suffolk is a hour the fooling things here,\n",
      "    And thou canst thee my heart of th\n",
      "--- EPOCH 97/200 ---\n",
      "train_batch (Avg. Loss 1.225, Accuracy 61.9): 100%|██████████| 892/892 [01:57<00:00,  7.60it/s]\n",
      "test_batch (Avg. Loss 1.552, Accuracy 54.0): 100%|██████████| 99/99 [00:05<00:00, 17.02it/s]\n",
      "ACT I. SCENE I.\n",
      "The Ghost of York stands to this days that supply.\n",
      "  Ham. I know the good times of C\n",
      "--- EPOCH 98/200 ---\n",
      "train_batch (Avg. Loss 1.225, Accuracy 61.9): 100%|██████████| 892/892 [01:57<00:00,  7.59it/s]\n",
      "test_batch (Avg. Loss 1.554, Accuracy 54.0): 100%|██████████| 99/99 [00:06<00:00, 16.48it/s]\n",
      "Stopped early\n",
      "*** Saved checkpoint checkpoints/rnn.pt at epoch 98\n"
     ]
    },
    {
     "data": {
      "image/png": "[encoded data removed]",
      "text/plain": [
       "<Figure size 1152x720 with 4 Axes>"
      ]
     },
     "metadata": {
      "needs_background": "light"
     },
     "output_type": "display_data"
    }
   ],
   "source": [
    "from cs236781.plot import plot_fit\n",
    "\n",
    "def post_epoch_fn(epoch, train_res, test_res, verbose):\n",
    "    # Update learning rate\n",
    "    scheduler.step(test_res.accuracy)\n",
    "    # Sample from model to show progress\n",
    "    if verbose:\n",
    "        start_seq = \"ACT I.\"\n",
    "        generated_sequence = charnn.generate_from_model(\n",
    "            model, start_seq, 100, (char_to_idx,idx_to_char), T=0.5\n",
    "        )\n",
    "        print(generated_sequence)\n",
    "\n",
    "# Train, unless final checkpoint is found\n",
    "checkpoint_file_final = f'./{checkpoint_file}_final.pt'\n",
    "if os.path.isfile(checkpoint_file_final):\n",
    "    print(f'*** Loading final checkpoint file {checkpoint_file_final} instead of training')\n",
    "    saved_state = torch.load(checkpoint_file_final, map_location=device)\n",
    "    print(type(saved_state))\n",
    "    print(saved_state.state_dict())\n",
    "    model.load_state_dict(saved_state['model_state'])\n",
    "else:\n",
    "    try:\n",
    "        # Print pre-training sampling\n",
    "        print(charnn.generate_from_model(model, \"ACT I.\", 100, (char_to_idx,idx_to_char), T=0.5))\n",
    "\n",
    "        fit_res = trainer.fit(dl_train, dl_test, num_epochs, max_batches=None,\n",
    "                              post_epoch_fn=post_epoch_fn, early_stopping=early_stopping,\n",
    "                              checkpoints=checkpoint_file, print_every=1)\n",
    "        \n",
    "        fig, axes = plot_fit(fit_res)\n",
    "    except KeyboardInterrupt as e:\n",
    "        print('\\n *** Training interrupted by user')"
   ]
  },
  {
   "cell_type": "markdown",
   "metadata": {},
   "source": [
    "### Generating a work of art\n",
    "<a id=part1_8></a>"
   ]
  },
  {
   "cell_type": "markdown",
   "metadata": {},
   "source": [
    "Armed with our fully trained model, let's generate the next Hamlet! You should experiment with modifying the sampling temperature and see what happens.\n",
    "\n",
    "The text you generate should “look” like a Shakespeare play:\n",
    "old-style English words and sentence structure, directions for the actors\n",
    "(like “Exit/Enter”), sections (Act I/Scene III) etc.\n",
    "There will be no coherent plot of course, but it should at least seem like\n",
    "a Shakespearean play when not looking too closely.\n",
    "If this is not what you see, go back, debug and/or and re-train.\n",
    "\n",
    "**TODO**: Specify the generation parameters in the `part1_generation_params()` function within the `hw3/answers.py` module."
   ]
  },
  {
   "cell_type": "code",
   "execution_count": 39,
   "metadata": {},
   "outputs": [
    {
     "name": "stdout",
     "output_type": "stream",
     "text": [
      "ACT I. The rise of the machine:\n",
      "    And a stranger of the comfort of the times\n",
      "    That most an end it was a most little sails\n",
      "    To the man at it, I am in some man.\n",
      "    The shore of the throats hath done,\n",
      "    When the other to the Duke of York the streets, the rest\n",
      "    with a buttom of this service.\n",
      "    He doth the people of the beggar that we have sell'd\n",
      "    The hand the noble lord, they have a woman.\n",
      "                                                                          Exit SERVANT\n",
      "                                                                                                Exeunt\n",
      "\n",
      "SCENE V.\n",
      "OLIVIA, and the KING HENRY BOLINGBROKE:\n",
      "You must fear the condition of the realm\n",
      "    Than you may draw me the rest of cousin, and he may had a winter singled thee,\n",
      "    Who is the country this storms, and the soldiers\n",
      "    Hath been as the servant with a proud to thee.\n",
      "    I am good but where he will it would have thy fortunes\n",
      "    As she was not the business to be the person.\n",
      "    Here is the death of the sun of my father\n",
      "    That she is not easily to have been such an arts,\n",
      "    That they are the more, and his fortune of your birth;\n",
      "    And here I shall be the course, I am strong,\n",
      "    And now I for the one of the truth of man.\n",
      "\n",
      "                                                                                Exeunt\n",
      "\n",
      "SCENE I.\n",
      "Brithee the lineaments of little power\n",
      "    That my words of the seals in the matter,\n",
      "    Where I have been the old boy. I Duke of Suffolk,\n",
      "    And swear a good methose, and not to the subjects,\n",
      "    Spirits that the death of my soul is the curses were my hands,\n",
      "    And he is to the marriage is but an easy self-  \n",
      "    I'll make the way that had made her tongue of the course is true.\n",
      "    And so we have been a soldiers be as well.\n",
      "    Now the soldiers that the means to be presently, and did not see\n",
      "    one that that the matter is fled to restore the sign she would say.\n",
      "                                                                                                        Exit\n",
      "  PETER. And some have in a doors and all the way\n",
      "    To more than I am a care, sir, there are an are possible\n",
      "    To see the earth of my hand,\n",
      "    The state set on the sea of the sun of all the love\n",
      "    That she shall say the thing not the patience that rough your company\n",
      "    peace and the soul that is in the present in the\n",
      "    word of heavens are a woman that makes me here.  \n",
      "    My lord, I can think your sake.\n",
      "  PROTEUS. How now, Lucius, in the days to thee.\n",
      "                                                                                                Exeunt\n",
      "\n",
      "SCENE 2.\n",
      "\n",
      "Musicians and the DUKE OF YORK:\n",
      "O, my lord, he goes the first of mine own death.\n",
      "                                                                      Exeunt\n",
      "\n",
      "SCENE III:\n",
      "And then it is not been some murderers.\n",
      "                                                                                                                         Exeunt\n",
      "\n",
      "ACT V. SCENE I.\n",
      "London. The palace\n",
      "\n",
      "Enter SERVANTS\n",
      "\n",
      "    My lord, I shall be speaks the most commons.\n",
      "                                                                                  Exeunt\n",
      "\n",
      "                                                            Enter PAROLLES,\n",
      "                                                                              Exeunt\n",
      "\n",
      "SCENE IV.\n",
      "London. Not so sure, and the days in the worlding\n",
      "    To have the soul of a princely court that the form\n",
      "    Proverty on the people she is not sure,\n",
      "    As in the old time I am a death.\n",
      "                                                                    Exeunt\n",
      "\n",
      "                                               Enter MARCUS\n",
      "\n",
      "  PAROLLES. The shall hear me out of men,\n",
      "    And then is the world in my breath and seeks.\n",
      "                                                                                   Exeunt\n",
      "\n",
      "SCENE V.\n",
      "London. A perfection.\n",
      "  PORTIA. Welcome here at good lady,\n",
      "    And you have a swanger of revenge of the maid of Cassio.\n",
      "                                                                                                                                                                                                                                                   Exeunt\n",
      "\n",
      "SCENE IV.\n",
      "Scene II.\n",
      "Before the POSTHUMUS\n",
      "\n",
      "  QUEEN ELIZABETH. Please you to the words of Cassio and his head.\n",
      "                                                                                                                                                                                        Exeunt\n",
      "\n",
      "SCENE I.\n",
      "A several country shall be a foul words.\n",
      "                                                                            Exit\n",
      "    So he had had end and there is strange.\n",
      "    The mountain that he shall see you sound as the people for\n",
      "    the solemn selling come as in the heaviness.\n",
      "    We will not stirring in the day of the house.\n",
      "    I am a witness of my sword.\n",
      "  PRINCE JOHN. What stay to your brother.\n",
      "  WARWICK. He was born to thy fortune of the seasons.\n",
      "    That the peace of deaths of my soul with the charged birth.\n",
      "                                                                         Exeunt\n",
      "\n",
      "SCENE III.\n",
      "BRUTUS:\n",
      "I think he does my horse and the streets,\n",
      "    There is the field that hath a gentleman and face.\n",
      "    The forest of the son the gentleman.\n",
      "    Hear him yet she do not see her beauty than the curtain of them from me.\n",
      "    I have got the common princes are as to my son,\n",
      "    In the parks of the which I will be as made between the stage\n",
      "    There with the bay and might past the commander on the command,\n",
      "    That I must be done, that he can be as good to\n",
      "    me to my brother, and her happy discourse and all the sea.\n",
      "    A sure, and in the way to the more\n",
      "    The King to the Princesset\n",
      "\n",
      "Enter FIRST SERVANTS\n",
      "\n",
      "                                                                  Exeunt\n",
      "\n",
      "SCENE IV.\n",
      "The DUKE OF YORK:\n",
      "A short it is a party of the best arms.\n",
      "    And the matter in a sea-complete of men,\n",
      "    And thy father that were not here well hath sate\n",
      "    him that he would be in my hearts with me to the while.\n",
      "                                                                       Exeunt BARDOLPH. Ay, say the lords, be the more.\n",
      "  PORTER. The man with our gain is so here.\n",
      "ANTIPHOL OF EPHESUS. The forest strange of the man and such a strangers.\n",
      "                                                             Exeunt\n",
      "\n",
      "SCENE I.\n",
      "The ragger and the rest of this death; and, so I think they see the matter, and let me see\n",
      "    his villain with Athens,\n",
      "    Which shall have me some general divorcess\n",
      "    That your same perfect slow of the grace,\n",
      "    And make your wind.                                                               Exeunt\n",
      "\n",
      "SCENE II.\n",
      "A soldiers to have you to that their beat of this bourney\n",
      "    wish you.                                                                                                Exeunt\n",
      "\n",
      "SCENE V.\n",
      "Elsina. The world of the womb of my dear foot.\n",
      "    The word to the part of his ward of this day.\n",
      "    Or what the very officers doth attended in the streets\n",
      "    To pay that you that did not think you be such a death is a face\n",
      "    That will be so does she will be so much that will not be born\n",
      "    That the temper to the devil here,\n",
      "    Which I will see thy love doth seen the treachery,\n",
      "    And I do not see it one love and defend\n",
      "    The devil and all his virtue, as you have a place,\n",
      "    Even acquaintance of the realms,\n",
      "    Which is the rich that ever hath so perfected to such a colours,\n",
      "                                                                                                                                        Exeunt\n",
      "\n",
      "ACT III. SCENE I.\n",
      "Elsinore.\n",
      "  DESDEMONA. The King of Warwick, that the sea,\n",
      "    And we are not with the world of a man is lov'd\n",
      "    Be your false father than the world with a parley.\n",
      "    Where he shall not banish the strange fortunes;\n",
      "    And so every matter that I shall not suspect thee,\n",
      "                                                                                                                                                    Exeunt\n",
      "\n",
      "SCENE IV.\n",
      "A properties of the sleeping time.\n",
      "                                                                                                                                                          Exeunt\n",
      "\n",
      "                                                                                                         Exeunt\n",
      "\n",
      "SCENE IV.\n",
      "The DUKE OF AUMERLE:\n",
      "No man that you are all death of him.\n",
      "                                                                                       Exeunt\n",
      "\n",
      "SCENE VI.\n",
      "                                                                                      Exeunt\n",
      "\n",
      "                                                  Enter the Capulet\n",
      "    With all the ransom than I shall stand.\n",
      "                                                        Exeunt PAGE, as you shall fled\n",
      "    his complexion appear of her head\n",
      "    To change the matter.\n",
      "    Marry, and then the soldiers of men,\n",
      "    Which I shall wink that my son the lord the King.\n",
      "                           Exeunt LUCENTIO\n",
      "\n",
      "  OLD LORD. The doors of the shepherd of the beauty that the more in\n",
      "    solemnime will be so far as they are\n",
      "    To make a fool, and the blood on the charity;\n",
      "    And so doth the correction; the straight of my own life,\n",
      "    But the strange of the heart of remembrance.\n",
      "    What was the common sir, and the matter of words.\n",
      "                                                                          Exeunt GUIDERIUS, and the PRINCE EDWARD, and a MESSENGER\n",
      "\n",
      "                                      Exeunt all it sword Branne and my\n",
      "    chain is the grace of fortune in your house.\n",
      "    He would be a deeds comes about the reasonate steeds,\n",
      "    And the lords, and the states and the place.\n",
      "    Had the nature that he dear men of the boy.\n",
      "                                                                                                                                                                Exeunt\n",
      "\n",
      "SCENE III.\n",
      "The the PROSPERO and the Lord, that we have a small words.\n",
      "    Pardon me not \n"
     ]
    }
   ],
   "source": [
    "from hw3.answers import part1_generation_params\n",
    "\n",
    "start_seq, temperature = part1_generation_params()\n",
    "\n",
    "generated_sequence = charnn.generate_from_model(\n",
    "    model, start_seq, 10000, (char_to_idx,idx_to_char), T=0.5\n",
    ")\n",
    "\n",
    "print(generated_sequence)"
   ]
  },
  {
   "cell_type": "markdown",
   "metadata": {},
   "source": [
    "## Questions\n",
    "<a id=part1_9></a>"
   ]
  },
  {
   "cell_type": "markdown",
   "metadata": {},
   "source": [
    "**TODO** Answer the following questions. Write your answers in the appropriate variables in the module `hw3/answers.py`."
   ]
  },
  {
   "cell_type": "code",
   "execution_count": 33,
   "metadata": {},
   "outputs": [],
   "source": [
    "from cs236781.answers import display_answer\n",
    "import hw3.answers"
   ]
  },
  {
   "cell_type": "markdown",
   "metadata": {},
   "source": [
    "### Question 1\n",
    "Why do we split the corpus into sequences instead of training on the whole text?"
   ]
  },
  {
   "cell_type": "code",
   "execution_count": 34,
   "metadata": {},
   "outputs": [
    {
     "data": {
      "text/markdown": [
       "\n",
       "**Your answer:**\n",
       "Several reasons:\n",
       "\n",
       "1. Training on the whole set physically doesn't let us to divice the training set into batches to parallelize the learning.\n",
       "2. The longer the sequence, the harder it is to train, since there are longer 'chains' of gradients. \n",
       "    By saving the hidden state, and passing is on, we cut the 'gradient chains' (by using .detach operation)\n",
       "3. There is no need for such long chains because of the problem of vanishing and exploding gradients.\n",
       "4. Also thinking logically - the character at the beginning of a corpus will likely not have an effect on the character in the end of the corpus\n",
       "\n",
       "\n"
      ],
      "text/plain": [
       "<IPython.core.display.Markdown object>"
      ]
     },
     "metadata": {},
     "output_type": "display_data"
    }
   ],
   "source": [
    "display_answer(hw3.answers.part1_q1)"
   ]
  },
  {
   "cell_type": "markdown",
   "metadata": {},
   "source": [
    "### Question 2\n",
    "How is it possible that the generated text clearly shows memory longer than the sequence length?"
   ]
  },
  {
   "cell_type": "code",
   "execution_count": 35,
   "metadata": {},
   "outputs": [
    {
     "data": {
      "text/markdown": [
       "\n",
       "**Your answer:**\n",
       "\n",
       "When generating text, we generate a single character each time. But we save the hidden state and pass it on.\n",
       "This allows us to generate sequences of any length, and it has nothing to do with the sequence length. \n",
       "The sequence length parameter only influenced the 'learning' part.\n",
       "\n"
      ],
      "text/plain": [
       "<IPython.core.display.Markdown object>"
      ]
     },
     "metadata": {},
     "output_type": "display_data"
    }
   ],
   "source": [
    "display_answer(hw3.answers.part1_q2)"
   ]
  },
  {
   "cell_type": "markdown",
   "metadata": {},
   "source": [
    "### Question 3\n",
    "Why are we not shuffling the order of batches when training?"
   ]
  },
  {
   "cell_type": "code",
   "execution_count": 36,
   "metadata": {},
   "outputs": [
    {
     "data": {
      "text/markdown": [
       "\n",
       "**Your answer:**\n",
       "\n",
       "Because we deliberately ordered them in a specific way such that the batches sequences will continue the previous batches sequences.\n",
       "If we shuffle, there will be no connections between sequences in a specifix batch idx. \n",
       "\n"
      ],
      "text/plain": [
       "<IPython.core.display.Markdown object>"
      ]
     },
     "metadata": {},
     "output_type": "display_data"
    }
   ],
   "source": [
    "display_answer(hw3.answers.part1_q3)"
   ]
  },
  {
   "cell_type": "markdown",
   "metadata": {},
   "source": [
    "### Question 4\n",
    "1. Why do we lower the temperature for sampling (compared to the default of $1.0$ when training)?\n",
    "2. What happens when the temperature is very high and why?\n",
    "3. What happens when the temperature is very low and why?"
   ]
  },
  {
   "cell_type": "code",
   "execution_count": 40,
   "metadata": {},
   "outputs": [
    {
     "data": {
      "text/markdown": [
       "\n",
       "**Your answer:**\n",
       "\n",
       "1. At learning, we want the model to much more likely give the correct prediction, so we want to maximize the 'original' softmax value.\n",
       "    At generating sequence, we want want less randomness so that the generated context will be consisted of real words, and not some\n",
       "    unconnected characters which got sampled by chance. \n",
       "2. when the temperature is high, the probabilities to sample the letters get \"flattened\", thus making our choice of the next character more random\n",
       "3. when the temperature is low, the probabilities get increased accoridng to their value, meaning the higher the probability, the more it will be increased. \n",
       "    This means that the choices for the next letter will be less random, and it will tend to choose the character with highest probability even more.\n",
       "\n"
      ],
      "text/plain": [
       "<IPython.core.display.Markdown object>"
      ]
     },
     "metadata": {},
     "output_type": "display_data"
    }
   ],
   "source": [
    "display_answer(hw3.answers.part1_q4)"
   ]
  },
  {
   "cell_type": "code",
   "execution_count": null,
   "metadata": {},
   "outputs": [],
   "source": []
  }
 ],
 "metadata": {
  "kernelspec": {
   "display_name": "Python 3",
   "language": "python",
   "name": "python3"
  },
  "language_info": {
   "codemirror_mode": {
    "name": "ipython",
    "version": 3
   },
   "file_extension": ".py",
   "mimetype": "text/x-python",
   "name": "python",
   "nbconvert_exporter": "python",
   "pygments_lexer": "ipython3",
   "version": "3.8.6"
  }
 },
 "nbformat": 4,
 "nbformat_minor": 4
}
